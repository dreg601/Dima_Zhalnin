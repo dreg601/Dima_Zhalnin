{
  "nbformat": 4,
  "nbformat_minor": 0,
  "metadata": {
    "colab": {
      "provenance": [],
      "collapsed_sections": [],
      "authorship_tag": "ABX9TyNs2PoEAI7fJKcr7W/gUJJ4",
      "include_colab_link": true
    },
    "kernelspec": {
      "name": "python3",
      "display_name": "Python 3"
    },
    "language_info": {
      "name": "python"
    }
  },
  "cells": [
    {
      "cell_type": "markdown",
      "metadata": {
        "id": "view-in-github",
        "colab_type": "text"
      },
      "source": [
        "<a href=\"https://colab.research.google.com/github/dreg601/test_task_bee/blob/main/%D0%A2%D0%B5%D1%81%D1%82%D0%BE%D0%B2%D0%BE%D0%B5_%D0%B7%D0%B0%D0%B4%D0%B0%D0%BD%D0%B8%D0%B5_%D0%B1%D0%B8%D0%BB%D0%B0%D0%B9%D0%BD.ipynb\" target=\"_parent\"><img src=\"https://colab.research.google.com/assets/colab-badge.svg\" alt=\"Open In Colab\"/></a>"
      ]
    },
    {
      "cell_type": "markdown",
      "source": [
        "Импорт всех основных библиотек."
      ],
      "metadata": {
        "id": "5G6mcAy6kTH2"
      }
    },
    {
      "cell_type": "code",
      "execution_count": 1,
      "metadata": {
        "id": "EEEPfWHyDGPr"
      },
      "outputs": [],
      "source": [
        "import pandas as pd\n",
        "import io\n",
        "import matplotlib.pyplot as plt\n",
        "import numpy as np \n",
        "%matplotlib inline\n",
        "import seaborn as sns"
      ]
    },
    {
      "cell_type": "markdown",
      "source": [
        "Создание дата-фреймов."
      ],
      "metadata": {
        "id": "XfbrkCDzkKgo"
      }
    },
    {
      "cell_type": "code",
      "source": [
        "df_f = pd.read_csv( 'service_fraud.csv')\n",
        "display(df_f)"
      ],
      "metadata": {
        "colab": {
          "base_uri": "https://localhost:8080/",
          "height": 424
        },
        "id": "SVr7ITobDs14",
        "outputId": "3f04d545-7a44-4efe-bc33-f4945dfd7c06"
      },
      "execution_count": 11,
      "outputs": [
        {
          "output_type": "display_data",
          "data": {
            "text/plain": [
              "     time_key_dt   client_id_serv      channel\n",
              "0     2022-07-01    T644930978638  Alternative\n",
              "1     2021-03-01  K68685073049356  Alternative\n",
              "2     2021-03-01  G68827227560004  Alternative\n",
              "3     2021-03-01  K64784666024594  Alternative\n",
              "4     2021-06-01  T68631562544549  Alternative\n",
              "...          ...              ...          ...\n",
              "2695  2021-10-01  K68684434750128    Franchise\n",
              "2696  2021-10-01  K68988408970865    Franchise\n",
              "2697  2021-10-01  B68723952753340    Franchise\n",
              "2698  2021-09-01  V69091217774455    Franchise\n",
              "2699  2021-09-01  V69182919078411    Franchise\n",
              "\n",
              "[2700 rows x 3 columns]"
            ],
            "text/html": [
              "\n",
              "  <div id=\"df-9c4021af-f186-4395-9c5f-6d5eb867c65b\">\n",
              "    <div class=\"colab-df-container\">\n",
              "      <div>\n",
              "<style scoped>\n",
              "    .dataframe tbody tr th:only-of-type {\n",
              "        vertical-align: middle;\n",
              "    }\n",
              "\n",
              "    .dataframe tbody tr th {\n",
              "        vertical-align: top;\n",
              "    }\n",
              "\n",
              "    .dataframe thead th {\n",
              "        text-align: right;\n",
              "    }\n",
              "</style>\n",
              "<table border=\"1\" class=\"dataframe\">\n",
              "  <thead>\n",
              "    <tr style=\"text-align: right;\">\n",
              "      <th></th>\n",
              "      <th>time_key_dt</th>\n",
              "      <th>client_id_serv</th>\n",
              "      <th>channel</th>\n",
              "    </tr>\n",
              "  </thead>\n",
              "  <tbody>\n",
              "    <tr>\n",
              "      <th>0</th>\n",
              "      <td>2022-07-01</td>\n",
              "      <td>T644930978638</td>\n",
              "      <td>Alternative</td>\n",
              "    </tr>\n",
              "    <tr>\n",
              "      <th>1</th>\n",
              "      <td>2021-03-01</td>\n",
              "      <td>K68685073049356</td>\n",
              "      <td>Alternative</td>\n",
              "    </tr>\n",
              "    <tr>\n",
              "      <th>2</th>\n",
              "      <td>2021-03-01</td>\n",
              "      <td>G68827227560004</td>\n",
              "      <td>Alternative</td>\n",
              "    </tr>\n",
              "    <tr>\n",
              "      <th>3</th>\n",
              "      <td>2021-03-01</td>\n",
              "      <td>K64784666024594</td>\n",
              "      <td>Alternative</td>\n",
              "    </tr>\n",
              "    <tr>\n",
              "      <th>4</th>\n",
              "      <td>2021-06-01</td>\n",
              "      <td>T68631562544549</td>\n",
              "      <td>Alternative</td>\n",
              "    </tr>\n",
              "    <tr>\n",
              "      <th>...</th>\n",
              "      <td>...</td>\n",
              "      <td>...</td>\n",
              "      <td>...</td>\n",
              "    </tr>\n",
              "    <tr>\n",
              "      <th>2695</th>\n",
              "      <td>2021-10-01</td>\n",
              "      <td>K68684434750128</td>\n",
              "      <td>Franchise</td>\n",
              "    </tr>\n",
              "    <tr>\n",
              "      <th>2696</th>\n",
              "      <td>2021-10-01</td>\n",
              "      <td>K68988408970865</td>\n",
              "      <td>Franchise</td>\n",
              "    </tr>\n",
              "    <tr>\n",
              "      <th>2697</th>\n",
              "      <td>2021-10-01</td>\n",
              "      <td>B68723952753340</td>\n",
              "      <td>Franchise</td>\n",
              "    </tr>\n",
              "    <tr>\n",
              "      <th>2698</th>\n",
              "      <td>2021-09-01</td>\n",
              "      <td>V69091217774455</td>\n",
              "      <td>Franchise</td>\n",
              "    </tr>\n",
              "    <tr>\n",
              "      <th>2699</th>\n",
              "      <td>2021-09-01</td>\n",
              "      <td>V69182919078411</td>\n",
              "      <td>Franchise</td>\n",
              "    </tr>\n",
              "  </tbody>\n",
              "</table>\n",
              "<p>2700 rows × 3 columns</p>\n",
              "</div>\n",
              "      <button class=\"colab-df-convert\" onclick=\"convertToInteractive('df-9c4021af-f186-4395-9c5f-6d5eb867c65b')\"\n",
              "              title=\"Convert this dataframe to an interactive table.\"\n",
              "              style=\"display:none;\">\n",
              "        \n",
              "  <svg xmlns=\"http://www.w3.org/2000/svg\" height=\"24px\"viewBox=\"0 0 24 24\"\n",
              "       width=\"24px\">\n",
              "    <path d=\"M0 0h24v24H0V0z\" fill=\"none\"/>\n",
              "    <path d=\"M18.56 5.44l.94 2.06.94-2.06 2.06-.94-2.06-.94-.94-2.06-.94 2.06-2.06.94zm-11 1L8.5 8.5l.94-2.06 2.06-.94-2.06-.94L8.5 2.5l-.94 2.06-2.06.94zm10 10l.94 2.06.94-2.06 2.06-.94-2.06-.94-.94-2.06-.94 2.06-2.06.94z\"/><path d=\"M17.41 7.96l-1.37-1.37c-.4-.4-.92-.59-1.43-.59-.52 0-1.04.2-1.43.59L10.3 9.45l-7.72 7.72c-.78.78-.78 2.05 0 2.83L4 21.41c.39.39.9.59 1.41.59.51 0 1.02-.2 1.41-.59l7.78-7.78 2.81-2.81c.8-.78.8-2.07 0-2.86zM5.41 20L4 18.59l7.72-7.72 1.47 1.35L5.41 20z\"/>\n",
              "  </svg>\n",
              "      </button>\n",
              "      \n",
              "  <style>\n",
              "    .colab-df-container {\n",
              "      display:flex;\n",
              "      flex-wrap:wrap;\n",
              "      gap: 12px;\n",
              "    }\n",
              "\n",
              "    .colab-df-convert {\n",
              "      background-color: #E8F0FE;\n",
              "      border: none;\n",
              "      border-radius: 50%;\n",
              "      cursor: pointer;\n",
              "      display: none;\n",
              "      fill: #1967D2;\n",
              "      height: 32px;\n",
              "      padding: 0 0 0 0;\n",
              "      width: 32px;\n",
              "    }\n",
              "\n",
              "    .colab-df-convert:hover {\n",
              "      background-color: #E2EBFA;\n",
              "      box-shadow: 0px 1px 2px rgba(60, 64, 67, 0.3), 0px 1px 3px 1px rgba(60, 64, 67, 0.15);\n",
              "      fill: #174EA6;\n",
              "    }\n",
              "\n",
              "    [theme=dark] .colab-df-convert {\n",
              "      background-color: #3B4455;\n",
              "      fill: #D2E3FC;\n",
              "    }\n",
              "\n",
              "    [theme=dark] .colab-df-convert:hover {\n",
              "      background-color: #434B5C;\n",
              "      box-shadow: 0px 1px 3px 1px rgba(0, 0, 0, 0.15);\n",
              "      filter: drop-shadow(0px 1px 2px rgba(0, 0, 0, 0.3));\n",
              "      fill: #FFFFFF;\n",
              "    }\n",
              "  </style>\n",
              "\n",
              "      <script>\n",
              "        const buttonEl =\n",
              "          document.querySelector('#df-9c4021af-f186-4395-9c5f-6d5eb867c65b button.colab-df-convert');\n",
              "        buttonEl.style.display =\n",
              "          google.colab.kernel.accessAllowed ? 'block' : 'none';\n",
              "\n",
              "        async function convertToInteractive(key) {\n",
              "          const element = document.querySelector('#df-9c4021af-f186-4395-9c5f-6d5eb867c65b');\n",
              "          const dataTable =\n",
              "            await google.colab.kernel.invokeFunction('convertToInteractive',\n",
              "                                                     [key], {});\n",
              "          if (!dataTable) return;\n",
              "\n",
              "          const docLinkHtml = 'Like what you see? Visit the ' +\n",
              "            '<a target=\"_blank\" href=https://colab.research.google.com/notebooks/data_table.ipynb>data table notebook</a>'\n",
              "            + ' to learn more about interactive tables.';\n",
              "          element.innerHTML = '';\n",
              "          dataTable['output_type'] = 'display_data';\n",
              "          await google.colab.output.renderOutput(dataTable, element);\n",
              "          const docLink = document.createElement('div');\n",
              "          docLink.innerHTML = docLinkHtml;\n",
              "          element.appendChild(docLink);\n",
              "        }\n",
              "      </script>\n",
              "    </div>\n",
              "  </div>\n",
              "  "
            ]
          },
          "metadata": {}
        }
      ]
    },
    {
      "cell_type": "code",
      "source": [
        "df_r = pd.read_csv( 'service_revenue.csv')\n",
        "display(df_r)"
      ],
      "metadata": {
        "id": "skIqBqmKGJrE",
        "colab": {
          "base_uri": "https://localhost:8080/",
          "height": 424
        },
        "outputId": "26ad9393-300b-4cf3-edb4-c939a356ad31"
      },
      "execution_count": 12,
      "outputs": [
        {
          "output_type": "display_data",
          "data": {
            "text/plain": [
              "        time_key_dt   client_id_serv     revenue\n",
              "0        2021-04-01    V644328120231  382.716671\n",
              "1        2021-04-01  K69097158072550  377.430195\n",
              "2        2021-04-01  S65849265234609  682.289684\n",
              "3        2021-04-01  U68598416040936   60.955957\n",
              "4        2021-04-01  S68677155648563  434.013901\n",
              "...             ...              ...         ...\n",
              "1569574  2022-08-01  G68828188937003  131.224172\n",
              "1569575  2022-08-01  G68827342636920  243.777353\n",
              "1569576  2022-08-01   G6462330265509  160.430723\n",
              "1569577  2022-08-01  G68996708843421  202.490244\n",
              "1569578  2022-08-01  G68827477836935  244.493296\n",
              "\n",
              "[1569579 rows x 3 columns]"
            ],
            "text/html": [
              "\n",
              "  <div id=\"df-06963e7e-3123-4190-b50e-b4f654bd36b6\">\n",
              "    <div class=\"colab-df-container\">\n",
              "      <div>\n",
              "<style scoped>\n",
              "    .dataframe tbody tr th:only-of-type {\n",
              "        vertical-align: middle;\n",
              "    }\n",
              "\n",
              "    .dataframe tbody tr th {\n",
              "        vertical-align: top;\n",
              "    }\n",
              "\n",
              "    .dataframe thead th {\n",
              "        text-align: right;\n",
              "    }\n",
              "</style>\n",
              "<table border=\"1\" class=\"dataframe\">\n",
              "  <thead>\n",
              "    <tr style=\"text-align: right;\">\n",
              "      <th></th>\n",
              "      <th>time_key_dt</th>\n",
              "      <th>client_id_serv</th>\n",
              "      <th>revenue</th>\n",
              "    </tr>\n",
              "  </thead>\n",
              "  <tbody>\n",
              "    <tr>\n",
              "      <th>0</th>\n",
              "      <td>2021-04-01</td>\n",
              "      <td>V644328120231</td>\n",
              "      <td>382.716671</td>\n",
              "    </tr>\n",
              "    <tr>\n",
              "      <th>1</th>\n",
              "      <td>2021-04-01</td>\n",
              "      <td>K69097158072550</td>\n",
              "      <td>377.430195</td>\n",
              "    </tr>\n",
              "    <tr>\n",
              "      <th>2</th>\n",
              "      <td>2021-04-01</td>\n",
              "      <td>S65849265234609</td>\n",
              "      <td>682.289684</td>\n",
              "    </tr>\n",
              "    <tr>\n",
              "      <th>3</th>\n",
              "      <td>2021-04-01</td>\n",
              "      <td>U68598416040936</td>\n",
              "      <td>60.955957</td>\n",
              "    </tr>\n",
              "    <tr>\n",
              "      <th>4</th>\n",
              "      <td>2021-04-01</td>\n",
              "      <td>S68677155648563</td>\n",
              "      <td>434.013901</td>\n",
              "    </tr>\n",
              "    <tr>\n",
              "      <th>...</th>\n",
              "      <td>...</td>\n",
              "      <td>...</td>\n",
              "      <td>...</td>\n",
              "    </tr>\n",
              "    <tr>\n",
              "      <th>1569574</th>\n",
              "      <td>2022-08-01</td>\n",
              "      <td>G68828188937003</td>\n",
              "      <td>131.224172</td>\n",
              "    </tr>\n",
              "    <tr>\n",
              "      <th>1569575</th>\n",
              "      <td>2022-08-01</td>\n",
              "      <td>G68827342636920</td>\n",
              "      <td>243.777353</td>\n",
              "    </tr>\n",
              "    <tr>\n",
              "      <th>1569576</th>\n",
              "      <td>2022-08-01</td>\n",
              "      <td>G6462330265509</td>\n",
              "      <td>160.430723</td>\n",
              "    </tr>\n",
              "    <tr>\n",
              "      <th>1569577</th>\n",
              "      <td>2022-08-01</td>\n",
              "      <td>G68996708843421</td>\n",
              "      <td>202.490244</td>\n",
              "    </tr>\n",
              "    <tr>\n",
              "      <th>1569578</th>\n",
              "      <td>2022-08-01</td>\n",
              "      <td>G68827477836935</td>\n",
              "      <td>244.493296</td>\n",
              "    </tr>\n",
              "  </tbody>\n",
              "</table>\n",
              "<p>1569579 rows × 3 columns</p>\n",
              "</div>\n",
              "      <button class=\"colab-df-convert\" onclick=\"convertToInteractive('df-06963e7e-3123-4190-b50e-b4f654bd36b6')\"\n",
              "              title=\"Convert this dataframe to an interactive table.\"\n",
              "              style=\"display:none;\">\n",
              "        \n",
              "  <svg xmlns=\"http://www.w3.org/2000/svg\" height=\"24px\"viewBox=\"0 0 24 24\"\n",
              "       width=\"24px\">\n",
              "    <path d=\"M0 0h24v24H0V0z\" fill=\"none\"/>\n",
              "    <path d=\"M18.56 5.44l.94 2.06.94-2.06 2.06-.94-2.06-.94-.94-2.06-.94 2.06-2.06.94zm-11 1L8.5 8.5l.94-2.06 2.06-.94-2.06-.94L8.5 2.5l-.94 2.06-2.06.94zm10 10l.94 2.06.94-2.06 2.06-.94-2.06-.94-.94-2.06-.94 2.06-2.06.94z\"/><path d=\"M17.41 7.96l-1.37-1.37c-.4-.4-.92-.59-1.43-.59-.52 0-1.04.2-1.43.59L10.3 9.45l-7.72 7.72c-.78.78-.78 2.05 0 2.83L4 21.41c.39.39.9.59 1.41.59.51 0 1.02-.2 1.41-.59l7.78-7.78 2.81-2.81c.8-.78.8-2.07 0-2.86zM5.41 20L4 18.59l7.72-7.72 1.47 1.35L5.41 20z\"/>\n",
              "  </svg>\n",
              "      </button>\n",
              "      \n",
              "  <style>\n",
              "    .colab-df-container {\n",
              "      display:flex;\n",
              "      flex-wrap:wrap;\n",
              "      gap: 12px;\n",
              "    }\n",
              "\n",
              "    .colab-df-convert {\n",
              "      background-color: #E8F0FE;\n",
              "      border: none;\n",
              "      border-radius: 50%;\n",
              "      cursor: pointer;\n",
              "      display: none;\n",
              "      fill: #1967D2;\n",
              "      height: 32px;\n",
              "      padding: 0 0 0 0;\n",
              "      width: 32px;\n",
              "    }\n",
              "\n",
              "    .colab-df-convert:hover {\n",
              "      background-color: #E2EBFA;\n",
              "      box-shadow: 0px 1px 2px rgba(60, 64, 67, 0.3), 0px 1px 3px 1px rgba(60, 64, 67, 0.15);\n",
              "      fill: #174EA6;\n",
              "    }\n",
              "\n",
              "    [theme=dark] .colab-df-convert {\n",
              "      background-color: #3B4455;\n",
              "      fill: #D2E3FC;\n",
              "    }\n",
              "\n",
              "    [theme=dark] .colab-df-convert:hover {\n",
              "      background-color: #434B5C;\n",
              "      box-shadow: 0px 1px 3px 1px rgba(0, 0, 0, 0.15);\n",
              "      filter: drop-shadow(0px 1px 2px rgba(0, 0, 0, 0.3));\n",
              "      fill: #FFFFFF;\n",
              "    }\n",
              "  </style>\n",
              "\n",
              "      <script>\n",
              "        const buttonEl =\n",
              "          document.querySelector('#df-06963e7e-3123-4190-b50e-b4f654bd36b6 button.colab-df-convert');\n",
              "        buttonEl.style.display =\n",
              "          google.colab.kernel.accessAllowed ? 'block' : 'none';\n",
              "\n",
              "        async function convertToInteractive(key) {\n",
              "          const element = document.querySelector('#df-06963e7e-3123-4190-b50e-b4f654bd36b6');\n",
              "          const dataTable =\n",
              "            await google.colab.kernel.invokeFunction('convertToInteractive',\n",
              "                                                     [key], {});\n",
              "          if (!dataTable) return;\n",
              "\n",
              "          const docLinkHtml = 'Like what you see? Visit the ' +\n",
              "            '<a target=\"_blank\" href=https://colab.research.google.com/notebooks/data_table.ipynb>data table notebook</a>'\n",
              "            + ' to learn more about interactive tables.';\n",
              "          element.innerHTML = '';\n",
              "          dataTable['output_type'] = 'display_data';\n",
              "          await google.colab.output.renderOutput(dataTable, element);\n",
              "          const docLink = document.createElement('div');\n",
              "          docLink.innerHTML = docLinkHtml;\n",
              "          element.appendChild(docLink);\n",
              "        }\n",
              "      </script>\n",
              "    </div>\n",
              "  </div>\n",
              "  "
            ]
          },
          "metadata": {}
        }
      ]
    },
    {
      "cell_type": "code",
      "source": [
        "df_ss = pd.read_csv( 'service_subs.csv')\n",
        "display(df_ss)"
      ],
      "metadata": {
        "colab": {
          "base_uri": "https://localhost:8080/",
          "height": 424
        },
        "id": "WDkdZg4aVp5D",
        "outputId": "2315e205-2cc1-45e9-a1b6-d3ee7a38b369"
      },
      "execution_count": 13,
      "outputs": [
        {
          "output_type": "display_data",
          "data": {
            "text/plain": [
              "        time_key_dt   client_id_serv segment sales_ind\n",
              "0        2021-01-01     A64309659750       1       old\n",
              "1        2021-01-01    A643510019114       1       old\n",
              "2        2021-01-01    A643511179115       1       old\n",
              "3        2021-01-01    A644422566295       1       old\n",
              "4        2021-01-01    A644424051299       1       old\n",
              "...             ...              ...     ...       ...\n",
              "1569616  2022-08-01  Y68891668339382       1       old\n",
              "1569617  2022-08-01  Y68999713143558       1       old\n",
              "1569618  2022-08-01  Y69119713445911       1       old\n",
              "1569619  2022-08-01  Y69136672946347       1       old\n",
              "1569620  2022-08-01  Y71414274648886       1       old\n",
              "\n",
              "[1569621 rows x 4 columns]"
            ],
            "text/html": [
              "\n",
              "  <div id=\"df-11b9ce15-b127-4514-88af-53e3bf4b22b3\">\n",
              "    <div class=\"colab-df-container\">\n",
              "      <div>\n",
              "<style scoped>\n",
              "    .dataframe tbody tr th:only-of-type {\n",
              "        vertical-align: middle;\n",
              "    }\n",
              "\n",
              "    .dataframe tbody tr th {\n",
              "        vertical-align: top;\n",
              "    }\n",
              "\n",
              "    .dataframe thead th {\n",
              "        text-align: right;\n",
              "    }\n",
              "</style>\n",
              "<table border=\"1\" class=\"dataframe\">\n",
              "  <thead>\n",
              "    <tr style=\"text-align: right;\">\n",
              "      <th></th>\n",
              "      <th>time_key_dt</th>\n",
              "      <th>client_id_serv</th>\n",
              "      <th>segment</th>\n",
              "      <th>sales_ind</th>\n",
              "    </tr>\n",
              "  </thead>\n",
              "  <tbody>\n",
              "    <tr>\n",
              "      <th>0</th>\n",
              "      <td>2021-01-01</td>\n",
              "      <td>A64309659750</td>\n",
              "      <td>1</td>\n",
              "      <td>old</td>\n",
              "    </tr>\n",
              "    <tr>\n",
              "      <th>1</th>\n",
              "      <td>2021-01-01</td>\n",
              "      <td>A643510019114</td>\n",
              "      <td>1</td>\n",
              "      <td>old</td>\n",
              "    </tr>\n",
              "    <tr>\n",
              "      <th>2</th>\n",
              "      <td>2021-01-01</td>\n",
              "      <td>A643511179115</td>\n",
              "      <td>1</td>\n",
              "      <td>old</td>\n",
              "    </tr>\n",
              "    <tr>\n",
              "      <th>3</th>\n",
              "      <td>2021-01-01</td>\n",
              "      <td>A644422566295</td>\n",
              "      <td>1</td>\n",
              "      <td>old</td>\n",
              "    </tr>\n",
              "    <tr>\n",
              "      <th>4</th>\n",
              "      <td>2021-01-01</td>\n",
              "      <td>A644424051299</td>\n",
              "      <td>1</td>\n",
              "      <td>old</td>\n",
              "    </tr>\n",
              "    <tr>\n",
              "      <th>...</th>\n",
              "      <td>...</td>\n",
              "      <td>...</td>\n",
              "      <td>...</td>\n",
              "      <td>...</td>\n",
              "    </tr>\n",
              "    <tr>\n",
              "      <th>1569616</th>\n",
              "      <td>2022-08-01</td>\n",
              "      <td>Y68891668339382</td>\n",
              "      <td>1</td>\n",
              "      <td>old</td>\n",
              "    </tr>\n",
              "    <tr>\n",
              "      <th>1569617</th>\n",
              "      <td>2022-08-01</td>\n",
              "      <td>Y68999713143558</td>\n",
              "      <td>1</td>\n",
              "      <td>old</td>\n",
              "    </tr>\n",
              "    <tr>\n",
              "      <th>1569618</th>\n",
              "      <td>2022-08-01</td>\n",
              "      <td>Y69119713445911</td>\n",
              "      <td>1</td>\n",
              "      <td>old</td>\n",
              "    </tr>\n",
              "    <tr>\n",
              "      <th>1569619</th>\n",
              "      <td>2022-08-01</td>\n",
              "      <td>Y69136672946347</td>\n",
              "      <td>1</td>\n",
              "      <td>old</td>\n",
              "    </tr>\n",
              "    <tr>\n",
              "      <th>1569620</th>\n",
              "      <td>2022-08-01</td>\n",
              "      <td>Y71414274648886</td>\n",
              "      <td>1</td>\n",
              "      <td>old</td>\n",
              "    </tr>\n",
              "  </tbody>\n",
              "</table>\n",
              "<p>1569621 rows × 4 columns</p>\n",
              "</div>\n",
              "      <button class=\"colab-df-convert\" onclick=\"convertToInteractive('df-11b9ce15-b127-4514-88af-53e3bf4b22b3')\"\n",
              "              title=\"Convert this dataframe to an interactive table.\"\n",
              "              style=\"display:none;\">\n",
              "        \n",
              "  <svg xmlns=\"http://www.w3.org/2000/svg\" height=\"24px\"viewBox=\"0 0 24 24\"\n",
              "       width=\"24px\">\n",
              "    <path d=\"M0 0h24v24H0V0z\" fill=\"none\"/>\n",
              "    <path d=\"M18.56 5.44l.94 2.06.94-2.06 2.06-.94-2.06-.94-.94-2.06-.94 2.06-2.06.94zm-11 1L8.5 8.5l.94-2.06 2.06-.94-2.06-.94L8.5 2.5l-.94 2.06-2.06.94zm10 10l.94 2.06.94-2.06 2.06-.94-2.06-.94-.94-2.06-.94 2.06-2.06.94z\"/><path d=\"M17.41 7.96l-1.37-1.37c-.4-.4-.92-.59-1.43-.59-.52 0-1.04.2-1.43.59L10.3 9.45l-7.72 7.72c-.78.78-.78 2.05 0 2.83L4 21.41c.39.39.9.59 1.41.59.51 0 1.02-.2 1.41-.59l7.78-7.78 2.81-2.81c.8-.78.8-2.07 0-2.86zM5.41 20L4 18.59l7.72-7.72 1.47 1.35L5.41 20z\"/>\n",
              "  </svg>\n",
              "      </button>\n",
              "      \n",
              "  <style>\n",
              "    .colab-df-container {\n",
              "      display:flex;\n",
              "      flex-wrap:wrap;\n",
              "      gap: 12px;\n",
              "    }\n",
              "\n",
              "    .colab-df-convert {\n",
              "      background-color: #E8F0FE;\n",
              "      border: none;\n",
              "      border-radius: 50%;\n",
              "      cursor: pointer;\n",
              "      display: none;\n",
              "      fill: #1967D2;\n",
              "      height: 32px;\n",
              "      padding: 0 0 0 0;\n",
              "      width: 32px;\n",
              "    }\n",
              "\n",
              "    .colab-df-convert:hover {\n",
              "      background-color: #E2EBFA;\n",
              "      box-shadow: 0px 1px 2px rgba(60, 64, 67, 0.3), 0px 1px 3px 1px rgba(60, 64, 67, 0.15);\n",
              "      fill: #174EA6;\n",
              "    }\n",
              "\n",
              "    [theme=dark] .colab-df-convert {\n",
              "      background-color: #3B4455;\n",
              "      fill: #D2E3FC;\n",
              "    }\n",
              "\n",
              "    [theme=dark] .colab-df-convert:hover {\n",
              "      background-color: #434B5C;\n",
              "      box-shadow: 0px 1px 3px 1px rgba(0, 0, 0, 0.15);\n",
              "      filter: drop-shadow(0px 1px 2px rgba(0, 0, 0, 0.3));\n",
              "      fill: #FFFFFF;\n",
              "    }\n",
              "  </style>\n",
              "\n",
              "      <script>\n",
              "        const buttonEl =\n",
              "          document.querySelector('#df-11b9ce15-b127-4514-88af-53e3bf4b22b3 button.colab-df-convert');\n",
              "        buttonEl.style.display =\n",
              "          google.colab.kernel.accessAllowed ? 'block' : 'none';\n",
              "\n",
              "        async function convertToInteractive(key) {\n",
              "          const element = document.querySelector('#df-11b9ce15-b127-4514-88af-53e3bf4b22b3');\n",
              "          const dataTable =\n",
              "            await google.colab.kernel.invokeFunction('convertToInteractive',\n",
              "                                                     [key], {});\n",
              "          if (!dataTable) return;\n",
              "\n",
              "          const docLinkHtml = 'Like what you see? Visit the ' +\n",
              "            '<a target=\"_blank\" href=https://colab.research.google.com/notebooks/data_table.ipynb>data table notebook</a>'\n",
              "            + ' to learn more about interactive tables.';\n",
              "          element.innerHTML = '';\n",
              "          dataTable['output_type'] = 'display_data';\n",
              "          await google.colab.output.renderOutput(dataTable, element);\n",
              "          const docLink = document.createElement('div');\n",
              "          docLink.innerHTML = docLinkHtml;\n",
              "          element.appendChild(docLink);\n",
              "        }\n",
              "      </script>\n",
              "    </div>\n",
              "  </div>\n",
              "  "
            ]
          },
          "metadata": {}
        }
      ]
    },
    {
      "cell_type": "code",
      "source": [
        "df_ts = pd.read_csv( 'technology_subs.csv')\n",
        "display(df_ts)"
      ],
      "metadata": {
        "colab": {
          "base_uri": "https://localhost:8080/",
          "height": 424
        },
        "id": "W_VeBMrLV0W_",
        "outputId": "e94a18b2-5f5c-4243-bc3e-8b8aca2f4878"
      },
      "execution_count": 14,
      "outputs": [
        {
          "output_type": "display_data",
          "data": {
            "text/plain": [
              "        date_key_src client_id_tech  combo_ind   client_id_serv\n",
              "0         2022-02-01     A694897209          1  A64955227227421\n",
              "1         2021-06-01     A694898225          1  A64900848624998\n",
              "2         2021-07-01     A694900227          1  A68699999951359\n",
              "3         2021-10-01     A694902219          1  A64955426727513\n",
              "4         2022-05-01     A694903225          0              NaN\n",
              "...              ...            ...        ...              ...\n",
              "1000963   2022-03-01   Y73365450963          1  Y65721967133991\n",
              "1000964   2021-02-01   Y73365647990          1  Y65428449932826\n",
              "1000965   2022-06-01   Y73365650710          1   Y6454617586348\n",
              "1000966   2022-05-01   Y73365650814          1  Y64948428126616\n",
              "1000967   2021-10-01   Y73365749846          1  Y70046761879674\n",
              "\n",
              "[1000968 rows x 4 columns]"
            ],
            "text/html": [
              "\n",
              "  <div id=\"df-d5782056-6961-4a1b-9377-4ad09504f17e\">\n",
              "    <div class=\"colab-df-container\">\n",
              "      <div>\n",
              "<style scoped>\n",
              "    .dataframe tbody tr th:only-of-type {\n",
              "        vertical-align: middle;\n",
              "    }\n",
              "\n",
              "    .dataframe tbody tr th {\n",
              "        vertical-align: top;\n",
              "    }\n",
              "\n",
              "    .dataframe thead th {\n",
              "        text-align: right;\n",
              "    }\n",
              "</style>\n",
              "<table border=\"1\" class=\"dataframe\">\n",
              "  <thead>\n",
              "    <tr style=\"text-align: right;\">\n",
              "      <th></th>\n",
              "      <th>date_key_src</th>\n",
              "      <th>client_id_tech</th>\n",
              "      <th>combo_ind</th>\n",
              "      <th>client_id_serv</th>\n",
              "    </tr>\n",
              "  </thead>\n",
              "  <tbody>\n",
              "    <tr>\n",
              "      <th>0</th>\n",
              "      <td>2022-02-01</td>\n",
              "      <td>A694897209</td>\n",
              "      <td>1</td>\n",
              "      <td>A64955227227421</td>\n",
              "    </tr>\n",
              "    <tr>\n",
              "      <th>1</th>\n",
              "      <td>2021-06-01</td>\n",
              "      <td>A694898225</td>\n",
              "      <td>1</td>\n",
              "      <td>A64900848624998</td>\n",
              "    </tr>\n",
              "    <tr>\n",
              "      <th>2</th>\n",
              "      <td>2021-07-01</td>\n",
              "      <td>A694900227</td>\n",
              "      <td>1</td>\n",
              "      <td>A68699999951359</td>\n",
              "    </tr>\n",
              "    <tr>\n",
              "      <th>3</th>\n",
              "      <td>2021-10-01</td>\n",
              "      <td>A694902219</td>\n",
              "      <td>1</td>\n",
              "      <td>A64955426727513</td>\n",
              "    </tr>\n",
              "    <tr>\n",
              "      <th>4</th>\n",
              "      <td>2022-05-01</td>\n",
              "      <td>A694903225</td>\n",
              "      <td>0</td>\n",
              "      <td>NaN</td>\n",
              "    </tr>\n",
              "    <tr>\n",
              "      <th>...</th>\n",
              "      <td>...</td>\n",
              "      <td>...</td>\n",
              "      <td>...</td>\n",
              "      <td>...</td>\n",
              "    </tr>\n",
              "    <tr>\n",
              "      <th>1000963</th>\n",
              "      <td>2022-03-01</td>\n",
              "      <td>Y73365450963</td>\n",
              "      <td>1</td>\n",
              "      <td>Y65721967133991</td>\n",
              "    </tr>\n",
              "    <tr>\n",
              "      <th>1000964</th>\n",
              "      <td>2021-02-01</td>\n",
              "      <td>Y73365647990</td>\n",
              "      <td>1</td>\n",
              "      <td>Y65428449932826</td>\n",
              "    </tr>\n",
              "    <tr>\n",
              "      <th>1000965</th>\n",
              "      <td>2022-06-01</td>\n",
              "      <td>Y73365650710</td>\n",
              "      <td>1</td>\n",
              "      <td>Y6454617586348</td>\n",
              "    </tr>\n",
              "    <tr>\n",
              "      <th>1000966</th>\n",
              "      <td>2022-05-01</td>\n",
              "      <td>Y73365650814</td>\n",
              "      <td>1</td>\n",
              "      <td>Y64948428126616</td>\n",
              "    </tr>\n",
              "    <tr>\n",
              "      <th>1000967</th>\n",
              "      <td>2021-10-01</td>\n",
              "      <td>Y73365749846</td>\n",
              "      <td>1</td>\n",
              "      <td>Y70046761879674</td>\n",
              "    </tr>\n",
              "  </tbody>\n",
              "</table>\n",
              "<p>1000968 rows × 4 columns</p>\n",
              "</div>\n",
              "      <button class=\"colab-df-convert\" onclick=\"convertToInteractive('df-d5782056-6961-4a1b-9377-4ad09504f17e')\"\n",
              "              title=\"Convert this dataframe to an interactive table.\"\n",
              "              style=\"display:none;\">\n",
              "        \n",
              "  <svg xmlns=\"http://www.w3.org/2000/svg\" height=\"24px\"viewBox=\"0 0 24 24\"\n",
              "       width=\"24px\">\n",
              "    <path d=\"M0 0h24v24H0V0z\" fill=\"none\"/>\n",
              "    <path d=\"M18.56 5.44l.94 2.06.94-2.06 2.06-.94-2.06-.94-.94-2.06-.94 2.06-2.06.94zm-11 1L8.5 8.5l.94-2.06 2.06-.94-2.06-.94L8.5 2.5l-.94 2.06-2.06.94zm10 10l.94 2.06.94-2.06 2.06-.94-2.06-.94-.94-2.06-.94 2.06-2.06.94z\"/><path d=\"M17.41 7.96l-1.37-1.37c-.4-.4-.92-.59-1.43-.59-.52 0-1.04.2-1.43.59L10.3 9.45l-7.72 7.72c-.78.78-.78 2.05 0 2.83L4 21.41c.39.39.9.59 1.41.59.51 0 1.02-.2 1.41-.59l7.78-7.78 2.81-2.81c.8-.78.8-2.07 0-2.86zM5.41 20L4 18.59l7.72-7.72 1.47 1.35L5.41 20z\"/>\n",
              "  </svg>\n",
              "      </button>\n",
              "      \n",
              "  <style>\n",
              "    .colab-df-container {\n",
              "      display:flex;\n",
              "      flex-wrap:wrap;\n",
              "      gap: 12px;\n",
              "    }\n",
              "\n",
              "    .colab-df-convert {\n",
              "      background-color: #E8F0FE;\n",
              "      border: none;\n",
              "      border-radius: 50%;\n",
              "      cursor: pointer;\n",
              "      display: none;\n",
              "      fill: #1967D2;\n",
              "      height: 32px;\n",
              "      padding: 0 0 0 0;\n",
              "      width: 32px;\n",
              "    }\n",
              "\n",
              "    .colab-df-convert:hover {\n",
              "      background-color: #E2EBFA;\n",
              "      box-shadow: 0px 1px 2px rgba(60, 64, 67, 0.3), 0px 1px 3px 1px rgba(60, 64, 67, 0.15);\n",
              "      fill: #174EA6;\n",
              "    }\n",
              "\n",
              "    [theme=dark] .colab-df-convert {\n",
              "      background-color: #3B4455;\n",
              "      fill: #D2E3FC;\n",
              "    }\n",
              "\n",
              "    [theme=dark] .colab-df-convert:hover {\n",
              "      background-color: #434B5C;\n",
              "      box-shadow: 0px 1px 3px 1px rgba(0, 0, 0, 0.15);\n",
              "      filter: drop-shadow(0px 1px 2px rgba(0, 0, 0, 0.3));\n",
              "      fill: #FFFFFF;\n",
              "    }\n",
              "  </style>\n",
              "\n",
              "      <script>\n",
              "        const buttonEl =\n",
              "          document.querySelector('#df-d5782056-6961-4a1b-9377-4ad09504f17e button.colab-df-convert');\n",
              "        buttonEl.style.display =\n",
              "          google.colab.kernel.accessAllowed ? 'block' : 'none';\n",
              "\n",
              "        async function convertToInteractive(key) {\n",
              "          const element = document.querySelector('#df-d5782056-6961-4a1b-9377-4ad09504f17e');\n",
              "          const dataTable =\n",
              "            await google.colab.kernel.invokeFunction('convertToInteractive',\n",
              "                                                     [key], {});\n",
              "          if (!dataTable) return;\n",
              "\n",
              "          const docLinkHtml = 'Like what you see? Visit the ' +\n",
              "            '<a target=\"_blank\" href=https://colab.research.google.com/notebooks/data_table.ipynb>data table notebook</a>'\n",
              "            + ' to learn more about interactive tables.';\n",
              "          element.innerHTML = '';\n",
              "          dataTable['output_type'] = 'display_data';\n",
              "          await google.colab.output.renderOutput(dataTable, element);\n",
              "          const docLink = document.createElement('div');\n",
              "          docLink.innerHTML = docLinkHtml;\n",
              "          element.appendChild(docLink);\n",
              "        }\n",
              "      </script>\n",
              "    </div>\n",
              "  </div>\n",
              "  "
            ]
          },
          "metadata": {}
        }
      ]
    },
    {
      "cell_type": "markdown",
      "source": [
        "Первый вопрос, клиенты service"
      ],
      "metadata": {
        "id": "Ig3UVpq0kcRY"
      }
    },
    {
      "cell_type": "code",
      "source": [
        "df_ss.groupby(by = ['time_key_dt'])['client_id_serv'].count().plot(kind = 'bar', grid= True)"
      ],
      "metadata": {
        "colab": {
          "base_uri": "https://localhost:8080/",
          "height": 345
        },
        "id": "_jMG2XhMV3fP",
        "outputId": "35f84247-c778-499f-bcb3-c1b9e6fc19f1"
      },
      "execution_count": 73,
      "outputs": [
        {
          "output_type": "execute_result",
          "data": {
            "text/plain": [
              "<matplotlib.axes._subplots.AxesSubplot at 0x7faad0868690>"
            ]
          },
          "metadata": {},
          "execution_count": 73
        },
        {
          "output_type": "display_data",
          "data": {
            "text/plain": [
              "<Figure size 432x288 with 1 Axes>"
            ],
            "image/png": "[encoded data removed]"
          },
          "metadata": {
            "needs_background": "light"
          }
        }
      ]
    },
    {
      "cell_type": "markdown",
      "source": [
        "Первый вопрос, клиенты Tech"
      ],
      "metadata": {
        "id": "bgB5l7CqkrwM"
      }
    },
    {
      "cell_type": "code",
      "source": [
        "df_ts.groupby(by = ['date_key_src'])['client_id_tech'].count().plot(kind = 'bar', grid= True)"
      ],
      "metadata": {
        "colab": {
          "base_uri": "https://localhost:8080/",
          "height": 345
        },
        "id": "seSz9BTUadbh",
        "outputId": "5c0b0e7a-1680-4b7a-e6d2-ed645f4d6368"
      },
      "execution_count": 34,
      "outputs": [
        {
          "output_type": "execute_result",
          "data": {
            "text/plain": [
              "<matplotlib.axes._subplots.AxesSubplot at 0x7faad3f57a90>"
            ]
          },
          "metadata": {},
          "execution_count": 34
        },
        {
          "output_type": "display_data",
          "data": {
            "text/plain": [
              "<Figure size 432x288 with 1 Axes>"
            ],
            "image/png": "[encoded data removed]"
          },
          "metadata": {
            "needs_background": "light"
          }
        }
      ]
    },
    {
      "cell_type": "markdown",
      "source": [
        "Первый вопрос, клиенты Combo"
      ],
      "metadata": {
        "id": "pAlnDA4Ikv5I"
      }
    },
    {
      "cell_type": "code",
      "source": [
        "df_ts_1 = df_ts[df_ts.combo_ind == 1].sort_values('date_key_src')\n",
        "display(df_ts_1)"
      ],
      "metadata": {
        "colab": {
          "base_uri": "https://localhost:8080/",
          "height": 424
        },
        "id": "TqwFHaqMemuB",
        "outputId": "77879c24-a02b-4358-edde-ed2f9fcfb0a7"
      },
      "execution_count": 41,
      "outputs": [
        {
          "output_type": "display_data",
          "data": {
            "text/plain": [
              "       date_key_src client_id_tech  combo_ind   client_id_serv\n",
              "697039   2021-01-01   S69948616365          1  S64735846419736\n",
              "732357   2021-01-01   S72751831304          1  S64751203421760\n",
              "875138   2021-01-01   V70003321382          1  V68634297444624\n",
              "875115   2021-01-01   V70003221381          1   V6450891411533\n",
              "676690   2021-01-01    S6954123107          1  S68885443363104\n",
              "...             ...            ...        ...              ...\n",
              "771384   2022-07-01    T6986438651          1  T68657379347555\n",
              "909643   2022-07-01   V70129628894          1   V6451412712374\n",
              "909644   2022-07-01   V70129628898          1  V69854971078973\n",
              "771439   2022-07-01    T6986448654          1  T64981312630164\n",
              "637127   2022-07-01   N73066943503          1  N64690038315550\n",
              "\n",
              "[597316 rows x 4 columns]"
            ],
            "text/html": [
              "\n",
              "  <div id=\"df-b8af5f51-e63d-4939-9716-f351c0c2a960\">\n",
              "    <div class=\"colab-df-container\">\n",
              "      <div>\n",
              "<style scoped>\n",
              "    .dataframe tbody tr th:only-of-type {\n",
              "        vertical-align: middle;\n",
              "    }\n",
              "\n",
              "    .dataframe tbody tr th {\n",
              "        vertical-align: top;\n",
              "    }\n",
              "\n",
              "    .dataframe thead th {\n",
              "        text-align: right;\n",
              "    }\n",
              "</style>\n",
              "<table border=\"1\" class=\"dataframe\">\n",
              "  <thead>\n",
              "    <tr style=\"text-align: right;\">\n",
              "      <th></th>\n",
              "      <th>date_key_src</th>\n",
              "      <th>client_id_tech</th>\n",
              "      <th>combo_ind</th>\n",
              "      <th>client_id_serv</th>\n",
              "    </tr>\n",
              "  </thead>\n",
              "  <tbody>\n",
              "    <tr>\n",
              "      <th>697039</th>\n",
              "      <td>2021-01-01</td>\n",
              "      <td>S69948616365</td>\n",
              "      <td>1</td>\n",
              "      <td>S64735846419736</td>\n",
              "    </tr>\n",
              "    <tr>\n",
              "      <th>732357</th>\n",
              "      <td>2021-01-01</td>\n",
              "      <td>S72751831304</td>\n",
              "      <td>1</td>\n",
              "      <td>S64751203421760</td>\n",
              "    </tr>\n",
              "    <tr>\n",
              "      <th>875138</th>\n",
              "      <td>2021-01-01</td>\n",
              "      <td>V70003321382</td>\n",
              "      <td>1</td>\n",
              "      <td>V68634297444624</td>\n",
              "    </tr>\n",
              "    <tr>\n",
              "      <th>875115</th>\n",
              "      <td>2021-01-01</td>\n",
              "      <td>V70003221381</td>\n",
              "      <td>1</td>\n",
              "      <td>V6450891411533</td>\n",
              "    </tr>\n",
              "    <tr>\n",
              "      <th>676690</th>\n",
              "      <td>2021-01-01</td>\n",
              "      <td>S6954123107</td>\n",
              "      <td>1</td>\n",
              "      <td>S68885443363104</td>\n",
              "    </tr>\n",
              "    <tr>\n",
              "      <th>...</th>\n",
              "      <td>...</td>\n",
              "      <td>...</td>\n",
              "      <td>...</td>\n",
              "      <td>...</td>\n",
              "    </tr>\n",
              "    <tr>\n",
              "      <th>771384</th>\n",
              "      <td>2022-07-01</td>\n",
              "      <td>T6986438651</td>\n",
              "      <td>1</td>\n",
              "      <td>T68657379347555</td>\n",
              "    </tr>\n",
              "    <tr>\n",
              "      <th>909643</th>\n",
              "      <td>2022-07-01</td>\n",
              "      <td>V70129628894</td>\n",
              "      <td>1</td>\n",
              "      <td>V6451412712374</td>\n",
              "    </tr>\n",
              "    <tr>\n",
              "      <th>909644</th>\n",
              "      <td>2022-07-01</td>\n",
              "      <td>V70129628898</td>\n",
              "      <td>1</td>\n",
              "      <td>V69854971078973</td>\n",
              "    </tr>\n",
              "    <tr>\n",
              "      <th>771439</th>\n",
              "      <td>2022-07-01</td>\n",
              "      <td>T6986448654</td>\n",
              "      <td>1</td>\n",
              "      <td>T64981312630164</td>\n",
              "    </tr>\n",
              "    <tr>\n",
              "      <th>637127</th>\n",
              "      <td>2022-07-01</td>\n",
              "      <td>N73066943503</td>\n",
              "      <td>1</td>\n",
              "      <td>N64690038315550</td>\n",
              "    </tr>\n",
              "  </tbody>\n",
              "</table>\n",
              "<p>597316 rows × 4 columns</p>\n",
              "</div>\n",
              "      <button class=\"colab-df-convert\" onclick=\"convertToInteractive('df-b8af5f51-e63d-4939-9716-f351c0c2a960')\"\n",
              "              title=\"Convert this dataframe to an interactive table.\"\n",
              "              style=\"display:none;\">\n",
              "        \n",
              "  <svg xmlns=\"http://www.w3.org/2000/svg\" height=\"24px\"viewBox=\"0 0 24 24\"\n",
              "       width=\"24px\">\n",
              "    <path d=\"M0 0h24v24H0V0z\" fill=\"none\"/>\n",
              "    <path d=\"M18.56 5.44l.94 2.06.94-2.06 2.06-.94-2.06-.94-.94-2.06-.94 2.06-2.06.94zm-11 1L8.5 8.5l.94-2.06 2.06-.94-2.06-.94L8.5 2.5l-.94 2.06-2.06.94zm10 10l.94 2.06.94-2.06 2.06-.94-2.06-.94-.94-2.06-.94 2.06-2.06.94z\"/><path d=\"M17.41 7.96l-1.37-1.37c-.4-.4-.92-.59-1.43-.59-.52 0-1.04.2-1.43.59L10.3 9.45l-7.72 7.72c-.78.78-.78 2.05 0 2.83L4 21.41c.39.39.9.59 1.41.59.51 0 1.02-.2 1.41-.59l7.78-7.78 2.81-2.81c.8-.78.8-2.07 0-2.86zM5.41 20L4 18.59l7.72-7.72 1.47 1.35L5.41 20z\"/>\n",
              "  </svg>\n",
              "      </button>\n",
              "      \n",
              "  <style>\n",
              "    .colab-df-container {\n",
              "      display:flex;\n",
              "      flex-wrap:wrap;\n",
              "      gap: 12px;\n",
              "    }\n",
              "\n",
              "    .colab-df-convert {\n",
              "      background-color: #E8F0FE;\n",
              "      border: none;\n",
              "      border-radius: 50%;\n",
              "      cursor: pointer;\n",
              "      display: none;\n",
              "      fill: #1967D2;\n",
              "      height: 32px;\n",
              "      padding: 0 0 0 0;\n",
              "      width: 32px;\n",
              "    }\n",
              "\n",
              "    .colab-df-convert:hover {\n",
              "      background-color: #E2EBFA;\n",
              "      box-shadow: 0px 1px 2px rgba(60, 64, 67, 0.3), 0px 1px 3px 1px rgba(60, 64, 67, 0.15);\n",
              "      fill: #174EA6;\n",
              "    }\n",
              "\n",
              "    [theme=dark] .colab-df-convert {\n",
              "      background-color: #3B4455;\n",
              "      fill: #D2E3FC;\n",
              "    }\n",
              "\n",
              "    [theme=dark] .colab-df-convert:hover {\n",
              "      background-color: #434B5C;\n",
              "      box-shadow: 0px 1px 3px 1px rgba(0, 0, 0, 0.15);\n",
              "      filter: drop-shadow(0px 1px 2px rgba(0, 0, 0, 0.3));\n",
              "      fill: #FFFFFF;\n",
              "    }\n",
              "  </style>\n",
              "\n",
              "      <script>\n",
              "        const buttonEl =\n",
              "          document.querySelector('#df-b8af5f51-e63d-4939-9716-f351c0c2a960 button.colab-df-convert');\n",
              "        buttonEl.style.display =\n",
              "          google.colab.kernel.accessAllowed ? 'block' : 'none';\n",
              "\n",
              "        async function convertToInteractive(key) {\n",
              "          const element = document.querySelector('#df-b8af5f51-e63d-4939-9716-f351c0c2a960');\n",
              "          const dataTable =\n",
              "            await google.colab.kernel.invokeFunction('convertToInteractive',\n",
              "                                                     [key], {});\n",
              "          if (!dataTable) return;\n",
              "\n",
              "          const docLinkHtml = 'Like what you see? Visit the ' +\n",
              "            '<a target=\"_blank\" href=https://colab.research.google.com/notebooks/data_table.ipynb>data table notebook</a>'\n",
              "            + ' to learn more about interactive tables.';\n",
              "          element.innerHTML = '';\n",
              "          dataTable['output_type'] = 'display_data';\n",
              "          await google.colab.output.renderOutput(dataTable, element);\n",
              "          const docLink = document.createElement('div');\n",
              "          docLink.innerHTML = docLinkHtml;\n",
              "          element.appendChild(docLink);\n",
              "        }\n",
              "      </script>\n",
              "    </div>\n",
              "  </div>\n",
              "  "
            ]
          },
          "metadata": {}
        }
      ]
    },
    {
      "cell_type": "code",
      "source": [
        "df_ts_1.groupby(by = ['date_key_src'])['client_id_tech'].count().plot(kind = 'bar', grid= True)"
      ],
      "metadata": {
        "colab": {
          "base_uri": "https://localhost:8080/",
          "height": 345
        },
        "id": "z9YlwbHkfRAF",
        "outputId": "8148e479-621f-4501-e168-f92fc800c80b"
      },
      "execution_count": 42,
      "outputs": [
        {
          "output_type": "execute_result",
          "data": {
            "text/plain": [
              "<matplotlib.axes._subplots.AxesSubplot at 0x7faad2ff5890>"
            ]
          },
          "metadata": {},
          "execution_count": 42
        },
        {
          "output_type": "display_data",
          "data": {
            "text/plain": [
              "<Figure size 432x288 with 1 Axes>"
            ],
            "image/png": "[encoded data removed]"
          },
          "metadata": {
            "needs_background": "light"
          }
        }
      ]
    },
    {
      "cell_type": "markdown",
      "source": [
        "Второй вопрос, подготовка данных (объединение таблиц)"
      ],
      "metadata": {
        "id": "tQLNi6nBlGyV"
      }
    },
    {
      "cell_type": "code",
      "source": [
        "df_r_1 = df_r.merge(df_ss)\n",
        "display(df_r_1)"
      ],
      "metadata": {
        "colab": {
          "base_uri": "https://localhost:8080/",
          "height": 424
        },
        "id": "0I59CLregms7",
        "outputId": "36bc7eb8-b702-49ae-fae9-bcffad7b134d"
      },
      "execution_count": 44,
      "outputs": [
        {
          "output_type": "display_data",
          "data": {
            "text/plain": [
              "        time_key_dt   client_id_serv     revenue segment sales_ind\n",
              "0        2021-04-01    V644328120231  382.716671       1       old\n",
              "1        2021-04-01  K69097158072550  377.430195       1       old\n",
              "2        2021-04-01  S65849265234609  682.289684       1       old\n",
              "3        2021-04-01  U68598416040936   60.955957     New       old\n",
              "4        2021-04-01  S68677155648563  434.013901       1       old\n",
              "...             ...              ...         ...     ...       ...\n",
              "1569574  2022-08-01  G68828188937003  131.224172       1       old\n",
              "1569575  2022-08-01  G68827342636920  243.777353     New     sales\n",
              "1569576  2022-08-01   G6462330265509  160.430723       2       old\n",
              "1569577  2022-08-01  G68996708843421  202.490244       1       old\n",
              "1569578  2022-08-01  G68827477836935  244.493296       1       old\n",
              "\n",
              "[1569579 rows x 5 columns]"
            ],
            "text/html": [
              "\n",
              "  <div id=\"df-00445fe4-f7f8-475b-a32b-92e2814b9baa\">\n",
              "    <div class=\"colab-df-container\">\n",
              "      <div>\n",
              "<style scoped>\n",
              "    .dataframe tbody tr th:only-of-type {\n",
              "        vertical-align: middle;\n",
              "    }\n",
              "\n",
              "    .dataframe tbody tr th {\n",
              "        vertical-align: top;\n",
              "    }\n",
              "\n",
              "    .dataframe thead th {\n",
              "        text-align: right;\n",
              "    }\n",
              "</style>\n",
              "<table border=\"1\" class=\"dataframe\">\n",
              "  <thead>\n",
              "    <tr style=\"text-align: right;\">\n",
              "      <th></th>\n",
              "      <th>time_key_dt</th>\n",
              "      <th>client_id_serv</th>\n",
              "      <th>revenue</th>\n",
              "      <th>segment</th>\n",
              "      <th>sales_ind</th>\n",
              "    </tr>\n",
              "  </thead>\n",
              "  <tbody>\n",
              "    <tr>\n",
              "      <th>0</th>\n",
              "      <td>2021-04-01</td>\n",
              "      <td>V644328120231</td>\n",
              "      <td>382.716671</td>\n",
              "      <td>1</td>\n",
              "      <td>old</td>\n",
              "    </tr>\n",
              "    <tr>\n",
              "      <th>1</th>\n",
              "      <td>2021-04-01</td>\n",
              "      <td>K69097158072550</td>\n",
              "      <td>377.430195</td>\n",
              "      <td>1</td>\n",
              "      <td>old</td>\n",
              "    </tr>\n",
              "    <tr>\n",
              "      <th>2</th>\n",
              "      <td>2021-04-01</td>\n",
              "      <td>S65849265234609</td>\n",
              "      <td>682.289684</td>\n",
              "      <td>1</td>\n",
              "      <td>old</td>\n",
              "    </tr>\n",
              "    <tr>\n",
              "      <th>3</th>\n",
              "      <td>2021-04-01</td>\n",
              "      <td>U68598416040936</td>\n",
              "      <td>60.955957</td>\n",
              "      <td>New</td>\n",
              "      <td>old</td>\n",
              "    </tr>\n",
              "    <tr>\n",
              "      <th>4</th>\n",
              "      <td>2021-04-01</td>\n",
              "      <td>S68677155648563</td>\n",
              "      <td>434.013901</td>\n",
              "      <td>1</td>\n",
              "      <td>old</td>\n",
              "    </tr>\n",
              "    <tr>\n",
              "      <th>...</th>\n",
              "      <td>...</td>\n",
              "      <td>...</td>\n",
              "      <td>...</td>\n",
              "      <td>...</td>\n",
              "      <td>...</td>\n",
              "    </tr>\n",
              "    <tr>\n",
              "      <th>1569574</th>\n",
              "      <td>2022-08-01</td>\n",
              "      <td>G68828188937003</td>\n",
              "      <td>131.224172</td>\n",
              "      <td>1</td>\n",
              "      <td>old</td>\n",
              "    </tr>\n",
              "    <tr>\n",
              "      <th>1569575</th>\n",
              "      <td>2022-08-01</td>\n",
              "      <td>G68827342636920</td>\n",
              "      <td>243.777353</td>\n",
              "      <td>New</td>\n",
              "      <td>sales</td>\n",
              "    </tr>\n",
              "    <tr>\n",
              "      <th>1569576</th>\n",
              "      <td>2022-08-01</td>\n",
              "      <td>G6462330265509</td>\n",
              "      <td>160.430723</td>\n",
              "      <td>2</td>\n",
              "      <td>old</td>\n",
              "    </tr>\n",
              "    <tr>\n",
              "      <th>1569577</th>\n",
              "      <td>2022-08-01</td>\n",
              "      <td>G68996708843421</td>\n",
              "      <td>202.490244</td>\n",
              "      <td>1</td>\n",
              "      <td>old</td>\n",
              "    </tr>\n",
              "    <tr>\n",
              "      <th>1569578</th>\n",
              "      <td>2022-08-01</td>\n",
              "      <td>G68827477836935</td>\n",
              "      <td>244.493296</td>\n",
              "      <td>1</td>\n",
              "      <td>old</td>\n",
              "    </tr>\n",
              "  </tbody>\n",
              "</table>\n",
              "<p>1569579 rows × 5 columns</p>\n",
              "</div>\n",
              "      <button class=\"colab-df-convert\" onclick=\"convertToInteractive('df-00445fe4-f7f8-475b-a32b-92e2814b9baa')\"\n",
              "              title=\"Convert this dataframe to an interactive table.\"\n",
              "              style=\"display:none;\">\n",
              "        \n",
              "  <svg xmlns=\"http://www.w3.org/2000/svg\" height=\"24px\"viewBox=\"0 0 24 24\"\n",
              "       width=\"24px\">\n",
              "    <path d=\"M0 0h24v24H0V0z\" fill=\"none\"/>\n",
              "    <path d=\"M18.56 5.44l.94 2.06.94-2.06 2.06-.94-2.06-.94-.94-2.06-.94 2.06-2.06.94zm-11 1L8.5 8.5l.94-2.06 2.06-.94-2.06-.94L8.5 2.5l-.94 2.06-2.06.94zm10 10l.94 2.06.94-2.06 2.06-.94-2.06-.94-.94-2.06-.94 2.06-2.06.94z\"/><path d=\"M17.41 7.96l-1.37-1.37c-.4-.4-.92-.59-1.43-.59-.52 0-1.04.2-1.43.59L10.3 9.45l-7.72 7.72c-.78.78-.78 2.05 0 2.83L4 21.41c.39.39.9.59 1.41.59.51 0 1.02-.2 1.41-.59l7.78-7.78 2.81-2.81c.8-.78.8-2.07 0-2.86zM5.41 20L4 18.59l7.72-7.72 1.47 1.35L5.41 20z\"/>\n",
              "  </svg>\n",
              "      </button>\n",
              "      \n",
              "  <style>\n",
              "    .colab-df-container {\n",
              "      display:flex;\n",
              "      flex-wrap:wrap;\n",
              "      gap: 12px;\n",
              "    }\n",
              "\n",
              "    .colab-df-convert {\n",
              "      background-color: #E8F0FE;\n",
              "      border: none;\n",
              "      border-radius: 50%;\n",
              "      cursor: pointer;\n",
              "      display: none;\n",
              "      fill: #1967D2;\n",
              "      height: 32px;\n",
              "      padding: 0 0 0 0;\n",
              "      width: 32px;\n",
              "    }\n",
              "\n",
              "    .colab-df-convert:hover {\n",
              "      background-color: #E2EBFA;\n",
              "      box-shadow: 0px 1px 2px rgba(60, 64, 67, 0.3), 0px 1px 3px 1px rgba(60, 64, 67, 0.15);\n",
              "      fill: #174EA6;\n",
              "    }\n",
              "\n",
              "    [theme=dark] .colab-df-convert {\n",
              "      background-color: #3B4455;\n",
              "      fill: #D2E3FC;\n",
              "    }\n",
              "\n",
              "    [theme=dark] .colab-df-convert:hover {\n",
              "      background-color: #434B5C;\n",
              "      box-shadow: 0px 1px 3px 1px rgba(0, 0, 0, 0.15);\n",
              "      filter: drop-shadow(0px 1px 2px rgba(0, 0, 0, 0.3));\n",
              "      fill: #FFFFFF;\n",
              "    }\n",
              "  </style>\n",
              "\n",
              "      <script>\n",
              "        const buttonEl =\n",
              "          document.querySelector('#df-00445fe4-f7f8-475b-a32b-92e2814b9baa button.colab-df-convert');\n",
              "        buttonEl.style.display =\n",
              "          google.colab.kernel.accessAllowed ? 'block' : 'none';\n",
              "\n",
              "        async function convertToInteractive(key) {\n",
              "          const element = document.querySelector('#df-00445fe4-f7f8-475b-a32b-92e2814b9baa');\n",
              "          const dataTable =\n",
              "            await google.colab.kernel.invokeFunction('convertToInteractive',\n",
              "                                                     [key], {});\n",
              "          if (!dataTable) return;\n",
              "\n",
              "          const docLinkHtml = 'Like what you see? Visit the ' +\n",
              "            '<a target=\"_blank\" href=https://colab.research.google.com/notebooks/data_table.ipynb>data table notebook</a>'\n",
              "            + ' to learn more about interactive tables.';\n",
              "          element.innerHTML = '';\n",
              "          dataTable['output_type'] = 'display_data';\n",
              "          await google.colab.output.renderOutput(dataTable, element);\n",
              "          const docLink = document.createElement('div');\n",
              "          docLink.innerHTML = docLinkHtml;\n",
              "          element.appendChild(docLink);\n",
              "        }\n",
              "      </script>\n",
              "    </div>\n",
              "  </div>\n",
              "  "
            ]
          },
          "metadata": {}
        }
      ]
    },
    {
      "cell_type": "markdown",
      "source": [
        "Второй вопрос, насколько стабильно пользуются (количество полей по сегментам)"
      ],
      "metadata": {
        "id": "QwUFM9gclM-G"
      }
    },
    {
      "cell_type": "code",
      "source": [
        "df_r_1.groupby(by = ['segment'])['client_id_serv'].count().plot(kind = 'bar', grid= True),\n",
        "df_r_1['segment'].value_counts()"
      ],
      "metadata": {
        "colab": {
          "base_uri": "https://localhost:8080/",
          "height": 371
        },
        "id": "KOJMQDrPk7Ea",
        "outputId": "3f66a520-2410-4aee-8aaf-bd381bc9e880"
      },
      "execution_count": 87,
      "outputs": [
        {
          "output_type": "execute_result",
          "data": {
            "text/plain": [
              "1      1167244\n",
              "2       316421\n",
              "New      85914\n",
              "Name: segment, dtype: int64"
            ]
          },
          "metadata": {},
          "execution_count": 87
        },
        {
          "output_type": "display_data",
          "data": {
            "text/plain": [
              "<Figure size 432x288 with 1 Axes>"
            ],
            "image/png": "[encoded data removed]"
          },
          "metadata": {
            "needs_background": "light"
          }
        }
      ]
    },
    {
      "cell_type": "markdown",
      "source": [
        "Второй вопрос, насколько стабильно пользуются, динамика по месяцам"
      ],
      "metadata": {
        "id": "FYWTqXrsoqWM"
      }
    },
    {
      "cell_type": "code",
      "source": [
        "df_r_1[df_r_1.segment == '1'].groupby(by = ['time_key_dt'])['client_id_serv'].count().plot(kind = 'bar', grid= True)"
      ],
      "metadata": {
        "colab": {
          "base_uri": "https://localhost:8080/",
          "height": 345
        },
        "id": "nb711CWvoY5Q",
        "outputId": "6c618bdc-d6e2-44f5-d6f6-028f8df2268f"
      },
      "execution_count": 88,
      "outputs": [
        {
          "output_type": "execute_result",
          "data": {
            "text/plain": [
              "<matplotlib.axes._subplots.AxesSubplot at 0x7faacf49ee10>"
            ]
          },
          "metadata": {},
          "execution_count": 88
        },
        {
          "output_type": "display_data",
          "data": {
            "text/plain": [
              "<Figure size 432x288 with 1 Axes>"
            ],
            "image/png": "[encoded data removed]"
          },
          "metadata": {
            "needs_background": "light"
          }
        }
      ]
    },
    {
      "cell_type": "code",
      "source": [
        "df_r_1[df_r_1.segment == '2'].groupby(by = ['time_key_dt'])['client_id_serv'].count().plot(kind = 'bar', grid= True)"
      ],
      "metadata": {
        "colab": {
          "base_uri": "https://localhost:8080/",
          "height": 345
        },
        "id": "ocZGPJKooYwr",
        "outputId": "ba105668-ec7f-4398-e552-499a1b1ecd84"
      },
      "execution_count": 89,
      "outputs": [
        {
          "output_type": "execute_result",
          "data": {
            "text/plain": [
              "<matplotlib.axes._subplots.AxesSubplot at 0x7faacf49ef90>"
            ]
          },
          "metadata": {},
          "execution_count": 89
        },
        {
          "output_type": "display_data",
          "data": {
            "text/plain": [
              "<Figure size 432x288 with 1 Axes>"
            ],
            "image/png": "[encoded data removed]"
          },
          "metadata": {
            "needs_background": "light"
          }
        }
      ]
    },
    {
      "cell_type": "code",
      "source": [
        "df_r_1[df_r_1.segment == 'New'].groupby(by = ['time_key_dt'])['client_id_serv'].count().plot(kind = 'bar', grid= True)"
      ],
      "metadata": {
        "colab": {
          "base_uri": "https://localhost:8080/",
          "height": 345
        },
        "id": "oDyMyrOOoYkd",
        "outputId": "b95bac38-6993-4b72-ac74-676c6e8391e5"
      },
      "execution_count": 90,
      "outputs": [
        {
          "output_type": "execute_result",
          "data": {
            "text/plain": [
              "<matplotlib.axes._subplots.AxesSubplot at 0x7faacf705450>"
            ]
          },
          "metadata": {},
          "execution_count": 90
        },
        {
          "output_type": "display_data",
          "data": {
            "text/plain": [
              "<Figure size 432x288 with 1 Axes>"
            ],
            "image/png": "[encoded data removed]"
          },
          "metadata": {
            "needs_background": "light"
          }
        }
      ]
    },
    {
      "cell_type": "markdown",
      "source": [
        "Второй вопрос, сколько платят (брал среднее значение за месяц)"
      ],
      "metadata": {
        "id": "wrisGV8Yoyvg"
      }
    },
    {
      "cell_type": "code",
      "source": [
        "df_r_1[df_r_1.segment == '1'].groupby(by = ['time_key_dt'])['revenue'].mean().plot(kind = 'bar', grid= True)"
      ],
      "metadata": {
        "colab": {
          "base_uri": "https://localhost:8080/",
          "height": 345
        },
        "id": "HkTxzYsPhox9",
        "outputId": "23712708-034e-4c5c-90a9-1b07dc9e76a2"
      },
      "execution_count": 91,
      "outputs": [
        {
          "output_type": "execute_result",
          "data": {
            "text/plain": [
              "<matplotlib.axes._subplots.AxesSubplot at 0x7faacf8a5090>"
            ]
          },
          "metadata": {},
          "execution_count": 91
        },
        {
          "output_type": "display_data",
          "data": {
            "text/plain": [
              "<Figure size 432x288 with 1 Axes>"
            ],
            "image/png": "[encoded data removed]"
          },
          "metadata": {
            "needs_background": "light"
          }
        }
      ]
    },
    {
      "cell_type": "code",
      "source": [
        "df_r_1[df_r_1.segment == '2'].groupby(by = ['time_key_dt'])['revenue'].mean().plot(kind = 'bar', grid= True)"
      ],
      "metadata": {
        "colab": {
          "base_uri": "https://localhost:8080/",
          "height": 345
        },
        "id": "9ZJ6zGjQja7g",
        "outputId": "c61568a0-d733-46e1-a80b-2cdefa81a715"
      },
      "execution_count": 92,
      "outputs": [
        {
          "output_type": "execute_result",
          "data": {
            "text/plain": [
              "<matplotlib.axes._subplots.AxesSubplot at 0x7faacf732890>"
            ]
          },
          "metadata": {},
          "execution_count": 92
        },
        {
          "output_type": "display_data",
          "data": {
            "text/plain": [
              "<Figure size 432x288 with 1 Axes>"
            ],
            "image/png": "[encoded data removed]"
          },
          "metadata": {
            "needs_background": "light"
          }
        }
      ]
    },
    {
      "cell_type": "code",
      "source": [
        "df_r_1[df_r_1.segment == 'New'].groupby(by = ['time_key_dt'])['revenue'].mean().plot(kind = 'bar', grid= True)"
      ],
      "metadata": {
        "colab": {
          "base_uri": "https://localhost:8080/",
          "height": 345
        },
        "id": "nB3eCHBNjgT_",
        "outputId": "e7987a8c-98b6-499d-8400-376bedd13567"
      },
      "execution_count": 93,
      "outputs": [
        {
          "output_type": "execute_result",
          "data": {
            "text/plain": [
              "<matplotlib.axes._subplots.AxesSubplot at 0x7faacf84f190>"
            ]
          },
          "metadata": {},
          "execution_count": 93
        },
        {
          "output_type": "display_data",
          "data": {
            "text/plain": [
              "<Figure size 432x288 with 1 Axes>"
            ],
            "image/png": "[encoded data removed]"
          },
          "metadata": {
            "needs_background": "light"
          }
        }
      ]
    },
    {
      "cell_type": "markdown",
      "source": [
        "Третий вопрос, есть ли среди абонентов combo фрод?"
      ],
      "metadata": {
        "id": "nbiO0wIdpMNO"
      }
    },
    {
      "cell_type": "code",
      "source": [
        "df_f_2 = df_ts_1.merge(df_ss)\n",
        "display(df_f_2)"
      ],
      "metadata": {
        "colab": {
          "base_uri": "https://localhost:8080/",
          "height": 424
        },
        "id": "Et7p-TkW5J2Y",
        "outputId": "7844dc18-5628-4a81-8b90-17a549c67368"
      },
      "execution_count": 118,
      "outputs": [
        {
          "output_type": "display_data",
          "data": {
            "text/plain": [
              "       date_key_src client_id_tech  combo_ind   client_id_serv time_key_dt  \\\n",
              "0        2021-01-01   S69948616365          1  S64735846419736  2021-01-01   \n",
              "1        2021-01-01   S72751831304          1  S64751203421760  2021-01-01   \n",
              "2        2021-01-01   V70003321382          1  V68634297444624  2021-01-01   \n",
              "3        2021-01-01   V70003221381          1   V6450891411533  2021-01-01   \n",
              "4        2021-01-01    S6954123107          1  S68885443363104  2021-01-01   \n",
              "...             ...            ...        ...              ...         ...   \n",
              "571068   2022-07-01    T6986438651          1  T68657379347555  2022-07-01   \n",
              "571069   2022-07-01   V70129628894          1   V6451412712374  2022-07-01   \n",
              "571070   2022-07-01   V70129628898          1  V69854971078973  2022-07-01   \n",
              "571071   2022-07-01    T6986448654          1  T64981312630164  2022-07-01   \n",
              "571072   2022-07-01   N73066943503          1  N64690038315550  2022-07-01   \n",
              "\n",
              "       segment sales_ind  \n",
              "0            1       old  \n",
              "1            2       old  \n",
              "2            1       old  \n",
              "3            1       old  \n",
              "4            1       old  \n",
              "...        ...       ...  \n",
              "571068       1       old  \n",
              "571069       2       old  \n",
              "571070       1       old  \n",
              "571071       1       old  \n",
              "571072       2       old  \n",
              "\n",
              "[571073 rows x 7 columns]"
            ],
            "text/html": [
              "\n",
              "  <div id=\"df-47e8b32b-a8ba-40b6-894f-7948684f26f2\">\n",
              "    <div class=\"colab-df-container\">\n",
              "      <div>\n",
              "<style scoped>\n",
              "    .dataframe tbody tr th:only-of-type {\n",
              "        vertical-align: middle;\n",
              "    }\n",
              "\n",
              "    .dataframe tbody tr th {\n",
              "        vertical-align: top;\n",
              "    }\n",
              "\n",
              "    .dataframe thead th {\n",
              "        text-align: right;\n",
              "    }\n",
              "</style>\n",
              "<table border=\"1\" class=\"dataframe\">\n",
              "  <thead>\n",
              "    <tr style=\"text-align: right;\">\n",
              "      <th></th>\n",
              "      <th>date_key_src</th>\n",
              "      <th>client_id_tech</th>\n",
              "      <th>combo_ind</th>\n",
              "      <th>client_id_serv</th>\n",
              "      <th>time_key_dt</th>\n",
              "      <th>segment</th>\n",
              "      <th>sales_ind</th>\n",
              "    </tr>\n",
              "  </thead>\n",
              "  <tbody>\n",
              "    <tr>\n",
              "      <th>0</th>\n",
              "      <td>2021-01-01</td>\n",
              "      <td>S69948616365</td>\n",
              "      <td>1</td>\n",
              "      <td>S64735846419736</td>\n",
              "      <td>2021-01-01</td>\n",
              "      <td>1</td>\n",
              "      <td>old</td>\n",
              "    </tr>\n",
              "    <tr>\n",
              "      <th>1</th>\n",
              "      <td>2021-01-01</td>\n",
              "      <td>S72751831304</td>\n",
              "      <td>1</td>\n",
              "      <td>S64751203421760</td>\n",
              "      <td>2021-01-01</td>\n",
              "      <td>2</td>\n",
              "      <td>old</td>\n",
              "    </tr>\n",
              "    <tr>\n",
              "      <th>2</th>\n",
              "      <td>2021-01-01</td>\n",
              "      <td>V70003321382</td>\n",
              "      <td>1</td>\n",
              "      <td>V68634297444624</td>\n",
              "      <td>2021-01-01</td>\n",
              "      <td>1</td>\n",
              "      <td>old</td>\n",
              "    </tr>\n",
              "    <tr>\n",
              "      <th>3</th>\n",
              "      <td>2021-01-01</td>\n",
              "      <td>V70003221381</td>\n",
              "      <td>1</td>\n",
              "      <td>V6450891411533</td>\n",
              "      <td>2021-01-01</td>\n",
              "      <td>1</td>\n",
              "      <td>old</td>\n",
              "    </tr>\n",
              "    <tr>\n",
              "      <th>4</th>\n",
              "      <td>2021-01-01</td>\n",
              "      <td>S6954123107</td>\n",
              "      <td>1</td>\n",
              "      <td>S68885443363104</td>\n",
              "      <td>2021-01-01</td>\n",
              "      <td>1</td>\n",
              "      <td>old</td>\n",
              "    </tr>\n",
              "    <tr>\n",
              "      <th>...</th>\n",
              "      <td>...</td>\n",
              "      <td>...</td>\n",
              "      <td>...</td>\n",
              "      <td>...</td>\n",
              "      <td>...</td>\n",
              "      <td>...</td>\n",
              "      <td>...</td>\n",
              "    </tr>\n",
              "    <tr>\n",
              "      <th>571068</th>\n",
              "      <td>2022-07-01</td>\n",
              "      <td>T6986438651</td>\n",
              "      <td>1</td>\n",
              "      <td>T68657379347555</td>\n",
              "      <td>2022-07-01</td>\n",
              "      <td>1</td>\n",
              "      <td>old</td>\n",
              "    </tr>\n",
              "    <tr>\n",
              "      <th>571069</th>\n",
              "      <td>2022-07-01</td>\n",
              "      <td>V70129628894</td>\n",
              "      <td>1</td>\n",
              "      <td>V6451412712374</td>\n",
              "      <td>2022-07-01</td>\n",
              "      <td>2</td>\n",
              "      <td>old</td>\n",
              "    </tr>\n",
              "    <tr>\n",
              "      <th>571070</th>\n",
              "      <td>2022-07-01</td>\n",
              "      <td>V70129628898</td>\n",
              "      <td>1</td>\n",
              "      <td>V69854971078973</td>\n",
              "      <td>2022-07-01</td>\n",
              "      <td>1</td>\n",
              "      <td>old</td>\n",
              "    </tr>\n",
              "    <tr>\n",
              "      <th>571071</th>\n",
              "      <td>2022-07-01</td>\n",
              "      <td>T6986448654</td>\n",
              "      <td>1</td>\n",
              "      <td>T64981312630164</td>\n",
              "      <td>2022-07-01</td>\n",
              "      <td>1</td>\n",
              "      <td>old</td>\n",
              "    </tr>\n",
              "    <tr>\n",
              "      <th>571072</th>\n",
              "      <td>2022-07-01</td>\n",
              "      <td>N73066943503</td>\n",
              "      <td>1</td>\n",
              "      <td>N64690038315550</td>\n",
              "      <td>2022-07-01</td>\n",
              "      <td>2</td>\n",
              "      <td>old</td>\n",
              "    </tr>\n",
              "  </tbody>\n",
              "</table>\n",
              "<p>571073 rows × 7 columns</p>\n",
              "</div>\n",
              "      <button class=\"colab-df-convert\" onclick=\"convertToInteractive('df-47e8b32b-a8ba-40b6-894f-7948684f26f2')\"\n",
              "              title=\"Convert this dataframe to an interactive table.\"\n",
              "              style=\"display:none;\">\n",
              "        \n",
              "  <svg xmlns=\"http://www.w3.org/2000/svg\" height=\"24px\"viewBox=\"0 0 24 24\"\n",
              "       width=\"24px\">\n",
              "    <path d=\"M0 0h24v24H0V0z\" fill=\"none\"/>\n",
              "    <path d=\"M18.56 5.44l.94 2.06.94-2.06 2.06-.94-2.06-.94-.94-2.06-.94 2.06-2.06.94zm-11 1L8.5 8.5l.94-2.06 2.06-.94-2.06-.94L8.5 2.5l-.94 2.06-2.06.94zm10 10l.94 2.06.94-2.06 2.06-.94-2.06-.94-.94-2.06-.94 2.06-2.06.94z\"/><path d=\"M17.41 7.96l-1.37-1.37c-.4-.4-.92-.59-1.43-.59-.52 0-1.04.2-1.43.59L10.3 9.45l-7.72 7.72c-.78.78-.78 2.05 0 2.83L4 21.41c.39.39.9.59 1.41.59.51 0 1.02-.2 1.41-.59l7.78-7.78 2.81-2.81c.8-.78.8-2.07 0-2.86zM5.41 20L4 18.59l7.72-7.72 1.47 1.35L5.41 20z\"/>\n",
              "  </svg>\n",
              "      </button>\n",
              "      \n",
              "  <style>\n",
              "    .colab-df-container {\n",
              "      display:flex;\n",
              "      flex-wrap:wrap;\n",
              "      gap: 12px;\n",
              "    }\n",
              "\n",
              "    .colab-df-convert {\n",
              "      background-color: #E8F0FE;\n",
              "      border: none;\n",
              "      border-radius: 50%;\n",
              "      cursor: pointer;\n",
              "      display: none;\n",
              "      fill: #1967D2;\n",
              "      height: 32px;\n",
              "      padding: 0 0 0 0;\n",
              "      width: 32px;\n",
              "    }\n",
              "\n",
              "    .colab-df-convert:hover {\n",
              "      background-color: #E2EBFA;\n",
              "      box-shadow: 0px 1px 2px rgba(60, 64, 67, 0.3), 0px 1px 3px 1px rgba(60, 64, 67, 0.15);\n",
              "      fill: #174EA6;\n",
              "    }\n",
              "\n",
              "    [theme=dark] .colab-df-convert {\n",
              "      background-color: #3B4455;\n",
              "      fill: #D2E3FC;\n",
              "    }\n",
              "\n",
              "    [theme=dark] .colab-df-convert:hover {\n",
              "      background-color: #434B5C;\n",
              "      box-shadow: 0px 1px 3px 1px rgba(0, 0, 0, 0.15);\n",
              "      filter: drop-shadow(0px 1px 2px rgba(0, 0, 0, 0.3));\n",
              "      fill: #FFFFFF;\n",
              "    }\n",
              "  </style>\n",
              "\n",
              "      <script>\n",
              "        const buttonEl =\n",
              "          document.querySelector('#df-47e8b32b-a8ba-40b6-894f-7948684f26f2 button.colab-df-convert');\n",
              "        buttonEl.style.display =\n",
              "          google.colab.kernel.accessAllowed ? 'block' : 'none';\n",
              "\n",
              "        async function convertToInteractive(key) {\n",
              "          const element = document.querySelector('#df-47e8b32b-a8ba-40b6-894f-7948684f26f2');\n",
              "          const dataTable =\n",
              "            await google.colab.kernel.invokeFunction('convertToInteractive',\n",
              "                                                     [key], {});\n",
              "          if (!dataTable) return;\n",
              "\n",
              "          const docLinkHtml = 'Like what you see? Visit the ' +\n",
              "            '<a target=\"_blank\" href=https://colab.research.google.com/notebooks/data_table.ipynb>data table notebook</a>'\n",
              "            + ' to learn more about interactive tables.';\n",
              "          element.innerHTML = '';\n",
              "          dataTable['output_type'] = 'display_data';\n",
              "          await google.colab.output.renderOutput(dataTable, element);\n",
              "          const docLink = document.createElement('div');\n",
              "          docLink.innerHTML = docLinkHtml;\n",
              "          element.appendChild(docLink);\n",
              "        }\n",
              "      </script>\n",
              "    </div>\n",
              "  </div>\n",
              "  "
            ]
          },
          "metadata": {}
        }
      ]
    },
    {
      "cell_type": "code",
      "source": [
        "df_f_1 = df_ts_1.merge(df_f)\n",
        "display(df_f_1)"
      ],
      "metadata": {
        "colab": {
          "base_uri": "https://localhost:8080/",
          "height": 424
        },
        "id": "LpTb8kS8kIRO",
        "outputId": "84aa277d-56d0-487d-8ac3-8ad6d990b063"
      },
      "execution_count": 94,
      "outputs": [
        {
          "output_type": "display_data",
          "data": {
            "text/plain": [
              "    date_key_src client_id_tech  combo_ind   client_id_serv time_key_dt  \\\n",
              "0     2021-01-01   K70056825958          1  K64653882510990  2021-01-01   \n",
              "1     2021-01-01   K69909713327          1   K6456408318613  2021-01-01   \n",
              "2     2021-01-01   K73040239608          1   K6456405398606  2021-01-01   \n",
              "3     2021-01-01   I70049025777          1  I68909827764317  2021-01-01   \n",
              "4     2021-01-01   S70045025307          1  S64662354811820  2021-01-01   \n",
              "..           ...            ...        ...              ...         ...   \n",
              "263   2022-07-01   S70112726722          1  S68589660240610  2022-07-01   \n",
              "264   2022-07-01   T70159031098          1  T64651365110840  2022-07-01   \n",
              "265   2022-07-01   T70112026620          1    T644930978638  2022-07-01   \n",
              "266   2022-07-01   V70158231070          1   V6452254263436  2022-07-01   \n",
              "267   2022-07-01   V70114526985          1  V64955678627565  2022-07-01   \n",
              "\n",
              "         channel  \n",
              "0    Alternative  \n",
              "1         Office  \n",
              "2    Alternative  \n",
              "3    Alternative  \n",
              "4      Franchise  \n",
              "..           ...  \n",
              "263       Office  \n",
              "264  Alternative  \n",
              "265  Alternative  \n",
              "266  Alternative  \n",
              "267       Office  \n",
              "\n",
              "[268 rows x 6 columns]"
            ],
            "text/html": [
              "\n",
              "  <div id=\"df-6fd003f3-bb26-4ffa-bce9-da77b2e40b79\">\n",
              "    <div class=\"colab-df-container\">\n",
              "      <div>\n",
              "<style scoped>\n",
              "    .dataframe tbody tr th:only-of-type {\n",
              "        vertical-align: middle;\n",
              "    }\n",
              "\n",
              "    .dataframe tbody tr th {\n",
              "        vertical-align: top;\n",
              "    }\n",
              "\n",
              "    .dataframe thead th {\n",
              "        text-align: right;\n",
              "    }\n",
              "</style>\n",
              "<table border=\"1\" class=\"dataframe\">\n",
              "  <thead>\n",
              "    <tr style=\"text-align: right;\">\n",
              "      <th></th>\n",
              "      <th>date_key_src</th>\n",
              "      <th>client_id_tech</th>\n",
              "      <th>combo_ind</th>\n",
              "      <th>client_id_serv</th>\n",
              "      <th>time_key_dt</th>\n",
              "      <th>channel</th>\n",
              "    </tr>\n",
              "  </thead>\n",
              "  <tbody>\n",
              "    <tr>\n",
              "      <th>0</th>\n",
              "      <td>2021-01-01</td>\n",
              "      <td>K70056825958</td>\n",
              "      <td>1</td>\n",
              "      <td>K64653882510990</td>\n",
              "      <td>2021-01-01</td>\n",
              "      <td>Alternative</td>\n",
              "    </tr>\n",
              "    <tr>\n",
              "      <th>1</th>\n",
              "      <td>2021-01-01</td>\n",
              "      <td>K69909713327</td>\n",
              "      <td>1</td>\n",
              "      <td>K6456408318613</td>\n",
              "      <td>2021-01-01</td>\n",
              "      <td>Office</td>\n",
              "    </tr>\n",
              "    <tr>\n",
              "      <th>2</th>\n",
              "      <td>2021-01-01</td>\n",
              "      <td>K73040239608</td>\n",
              "      <td>1</td>\n",
              "      <td>K6456405398606</td>\n",
              "      <td>2021-01-01</td>\n",
              "      <td>Alternative</td>\n",
              "    </tr>\n",
              "    <tr>\n",
              "      <th>3</th>\n",
              "      <td>2021-01-01</td>\n",
              "      <td>I70049025777</td>\n",
              "      <td>1</td>\n",
              "      <td>I68909827764317</td>\n",
              "      <td>2021-01-01</td>\n",
              "      <td>Alternative</td>\n",
              "    </tr>\n",
              "    <tr>\n",
              "      <th>4</th>\n",
              "      <td>2021-01-01</td>\n",
              "      <td>S70045025307</td>\n",
              "      <td>1</td>\n",
              "      <td>S64662354811820</td>\n",
              "      <td>2021-01-01</td>\n",
              "      <td>Franchise</td>\n",
              "    </tr>\n",
              "    <tr>\n",
              "      <th>...</th>\n",
              "      <td>...</td>\n",
              "      <td>...</td>\n",
              "      <td>...</td>\n",
              "      <td>...</td>\n",
              "      <td>...</td>\n",
              "      <td>...</td>\n",
              "    </tr>\n",
              "    <tr>\n",
              "      <th>263</th>\n",
              "      <td>2022-07-01</td>\n",
              "      <td>S70112726722</td>\n",
              "      <td>1</td>\n",
              "      <td>S68589660240610</td>\n",
              "      <td>2022-07-01</td>\n",
              "      <td>Office</td>\n",
              "    </tr>\n",
              "    <tr>\n",
              "      <th>264</th>\n",
              "      <td>2022-07-01</td>\n",
              "      <td>T70159031098</td>\n",
              "      <td>1</td>\n",
              "      <td>T64651365110840</td>\n",
              "      <td>2022-07-01</td>\n",
              "      <td>Alternative</td>\n",
              "    </tr>\n",
              "    <tr>\n",
              "      <th>265</th>\n",
              "      <td>2022-07-01</td>\n",
              "      <td>T70112026620</td>\n",
              "      <td>1</td>\n",
              "      <td>T644930978638</td>\n",
              "      <td>2022-07-01</td>\n",
              "      <td>Alternative</td>\n",
              "    </tr>\n",
              "    <tr>\n",
              "      <th>266</th>\n",
              "      <td>2022-07-01</td>\n",
              "      <td>V70158231070</td>\n",
              "      <td>1</td>\n",
              "      <td>V6452254263436</td>\n",
              "      <td>2022-07-01</td>\n",
              "      <td>Alternative</td>\n",
              "    </tr>\n",
              "    <tr>\n",
              "      <th>267</th>\n",
              "      <td>2022-07-01</td>\n",
              "      <td>V70114526985</td>\n",
              "      <td>1</td>\n",
              "      <td>V64955678627565</td>\n",
              "      <td>2022-07-01</td>\n",
              "      <td>Office</td>\n",
              "    </tr>\n",
              "  </tbody>\n",
              "</table>\n",
              "<p>268 rows × 6 columns</p>\n",
              "</div>\n",
              "      <button class=\"colab-df-convert\" onclick=\"convertToInteractive('df-6fd003f3-bb26-4ffa-bce9-da77b2e40b79')\"\n",
              "              title=\"Convert this dataframe to an interactive table.\"\n",
              "              style=\"display:none;\">\n",
              "        \n",
              "  <svg xmlns=\"http://www.w3.org/2000/svg\" height=\"24px\"viewBox=\"0 0 24 24\"\n",
              "       width=\"24px\">\n",
              "    <path d=\"M0 0h24v24H0V0z\" fill=\"none\"/>\n",
              "    <path d=\"M18.56 5.44l.94 2.06.94-2.06 2.06-.94-2.06-.94-.94-2.06-.94 2.06-2.06.94zm-11 1L8.5 8.5l.94-2.06 2.06-.94-2.06-.94L8.5 2.5l-.94 2.06-2.06.94zm10 10l.94 2.06.94-2.06 2.06-.94-2.06-.94-.94-2.06-.94 2.06-2.06.94z\"/><path d=\"M17.41 7.96l-1.37-1.37c-.4-.4-.92-.59-1.43-.59-.52 0-1.04.2-1.43.59L10.3 9.45l-7.72 7.72c-.78.78-.78 2.05 0 2.83L4 21.41c.39.39.9.59 1.41.59.51 0 1.02-.2 1.41-.59l7.78-7.78 2.81-2.81c.8-.78.8-2.07 0-2.86zM5.41 20L4 18.59l7.72-7.72 1.47 1.35L5.41 20z\"/>\n",
              "  </svg>\n",
              "      </button>\n",
              "      \n",
              "  <style>\n",
              "    .colab-df-container {\n",
              "      display:flex;\n",
              "      flex-wrap:wrap;\n",
              "      gap: 12px;\n",
              "    }\n",
              "\n",
              "    .colab-df-convert {\n",
              "      background-color: #E8F0FE;\n",
              "      border: none;\n",
              "      border-radius: 50%;\n",
              "      cursor: pointer;\n",
              "      display: none;\n",
              "      fill: #1967D2;\n",
              "      height: 32px;\n",
              "      padding: 0 0 0 0;\n",
              "      width: 32px;\n",
              "    }\n",
              "\n",
              "    .colab-df-convert:hover {\n",
              "      background-color: #E2EBFA;\n",
              "      box-shadow: 0px 1px 2px rgba(60, 64, 67, 0.3), 0px 1px 3px 1px rgba(60, 64, 67, 0.15);\n",
              "      fill: #174EA6;\n",
              "    }\n",
              "\n",
              "    [theme=dark] .colab-df-convert {\n",
              "      background-color: #3B4455;\n",
              "      fill: #D2E3FC;\n",
              "    }\n",
              "\n",
              "    [theme=dark] .colab-df-convert:hover {\n",
              "      background-color: #434B5C;\n",
              "      box-shadow: 0px 1px 3px 1px rgba(0, 0, 0, 0.15);\n",
              "      filter: drop-shadow(0px 1px 2px rgba(0, 0, 0, 0.3));\n",
              "      fill: #FFFFFF;\n",
              "    }\n",
              "  </style>\n",
              "\n",
              "      <script>\n",
              "        const buttonEl =\n",
              "          document.querySelector('#df-6fd003f3-bb26-4ffa-bce9-da77b2e40b79 button.colab-df-convert');\n",
              "        buttonEl.style.display =\n",
              "          google.colab.kernel.accessAllowed ? 'block' : 'none';\n",
              "\n",
              "        async function convertToInteractive(key) {\n",
              "          const element = document.querySelector('#df-6fd003f3-bb26-4ffa-bce9-da77b2e40b79');\n",
              "          const dataTable =\n",
              "            await google.colab.kernel.invokeFunction('convertToInteractive',\n",
              "                                                     [key], {});\n",
              "          if (!dataTable) return;\n",
              "\n",
              "          const docLinkHtml = 'Like what you see? Visit the ' +\n",
              "            '<a target=\"_blank\" href=https://colab.research.google.com/notebooks/data_table.ipynb>data table notebook</a>'\n",
              "            + ' to learn more about interactive tables.';\n",
              "          element.innerHTML = '';\n",
              "          dataTable['output_type'] = 'display_data';\n",
              "          await google.colab.output.renderOutput(dataTable, element);\n",
              "          const docLink = document.createElement('div');\n",
              "          docLink.innerHTML = docLinkHtml;\n",
              "          element.appendChild(docLink);\n",
              "        }\n",
              "      </script>\n",
              "    </div>\n",
              "  </div>\n",
              "  "
            ]
          },
          "metadata": {}
        }
      ]
    },
    {
      "cell_type": "code",
      "source": [
        "df_f_3 = df_f_1.merge(df_f_2)\n",
        "display(df_f_3[df_f_3.sales_ind == 'sales'])"
      ],
      "metadata": {
        "colab": {
          "base_uri": "https://localhost:8080/",
          "height": 424
        },
        "id": "LbcUWns25rSk",
        "outputId": "30e346b7-1287-4c80-a9bb-f6346c7a58a6"
      },
      "execution_count": 122,
      "outputs": [
        {
          "output_type": "display_data",
          "data": {
            "text/plain": [
              "    date_key_src client_id_tech  combo_ind   client_id_serv time_key_dt  \\\n",
              "0     2021-01-01   K70056825958          1  K64653882510990  2021-01-01   \n",
              "1     2021-01-01   K69909713327          1   K6456408318613  2021-01-01   \n",
              "2     2021-01-01   K73040239608          1   K6456405398606  2021-01-01   \n",
              "3     2021-01-01   I70049025777          1  I68909827764317  2021-01-01   \n",
              "4     2021-01-01   S70045025307          1  S64662354811820  2021-01-01   \n",
              "..           ...            ...        ...              ...         ...   \n",
              "263   2022-07-01   S70112726722          1  S68589660240610  2022-07-01   \n",
              "264   2022-07-01   T70159031098          1  T64651365110840  2022-07-01   \n",
              "265   2022-07-01   T70112026620          1    T644930978638  2022-07-01   \n",
              "266   2022-07-01   V70158231070          1   V6452254263436  2022-07-01   \n",
              "267   2022-07-01   V70114526985          1  V64955678627565  2022-07-01   \n",
              "\n",
              "         channel segment sales_ind  \n",
              "0    Alternative     New     sales  \n",
              "1         Office     New     sales  \n",
              "2    Alternative     New     sales  \n",
              "3    Alternative     New     sales  \n",
              "4      Franchise     New     sales  \n",
              "..           ...     ...       ...  \n",
              "263       Office     New     sales  \n",
              "264  Alternative     New     sales  \n",
              "265  Alternative     New     sales  \n",
              "266  Alternative     New     sales  \n",
              "267       Office     New     sales  \n",
              "\n",
              "[268 rows x 8 columns]"
            ],
            "text/html": [
              "\n",
              "  <div id=\"df-8a81b5fb-a31a-4e5f-a24d-8ce3ead74118\">\n",
              "    <div class=\"colab-df-container\">\n",
              "      <div>\n",
              "<style scoped>\n",
              "    .dataframe tbody tr th:only-of-type {\n",
              "        vertical-align: middle;\n",
              "    }\n",
              "\n",
              "    .dataframe tbody tr th {\n",
              "        vertical-align: top;\n",
              "    }\n",
              "\n",
              "    .dataframe thead th {\n",
              "        text-align: right;\n",
              "    }\n",
              "</style>\n",
              "<table border=\"1\" class=\"dataframe\">\n",
              "  <thead>\n",
              "    <tr style=\"text-align: right;\">\n",
              "      <th></th>\n",
              "      <th>date_key_src</th>\n",
              "      <th>client_id_tech</th>\n",
              "      <th>combo_ind</th>\n",
              "      <th>client_id_serv</th>\n",
              "      <th>time_key_dt</th>\n",
              "      <th>channel</th>\n",
              "      <th>segment</th>\n",
              "      <th>sales_ind</th>\n",
              "    </tr>\n",
              "  </thead>\n",
              "  <tbody>\n",
              "    <tr>\n",
              "      <th>0</th>\n",
              "      <td>2021-01-01</td>\n",
              "      <td>K70056825958</td>\n",
              "      <td>1</td>\n",
              "      <td>K64653882510990</td>\n",
              "      <td>2021-01-01</td>\n",
              "      <td>Alternative</td>\n",
              "      <td>New</td>\n",
              "      <td>sales</td>\n",
              "    </tr>\n",
              "    <tr>\n",
              "      <th>1</th>\n",
              "      <td>2021-01-01</td>\n",
              "      <td>K69909713327</td>\n",
              "      <td>1</td>\n",
              "      <td>K6456408318613</td>\n",
              "      <td>2021-01-01</td>\n",
              "      <td>Office</td>\n",
              "      <td>New</td>\n",
              "      <td>sales</td>\n",
              "    </tr>\n",
              "    <tr>\n",
              "      <th>2</th>\n",
              "      <td>2021-01-01</td>\n",
              "      <td>K73040239608</td>\n",
              "      <td>1</td>\n",
              "      <td>K6456405398606</td>\n",
              "      <td>2021-01-01</td>\n",
              "      <td>Alternative</td>\n",
              "      <td>New</td>\n",
              "      <td>sales</td>\n",
              "    </tr>\n",
              "    <tr>\n",
              "      <th>3</th>\n",
              "      <td>2021-01-01</td>\n",
              "      <td>I70049025777</td>\n",
              "      <td>1</td>\n",
              "      <td>I68909827764317</td>\n",
              "      <td>2021-01-01</td>\n",
              "      <td>Alternative</td>\n",
              "      <td>New</td>\n",
              "      <td>sales</td>\n",
              "    </tr>\n",
              "    <tr>\n",
              "      <th>4</th>\n",
              "      <td>2021-01-01</td>\n",
              "      <td>S70045025307</td>\n",
              "      <td>1</td>\n",
              "      <td>S64662354811820</td>\n",
              "      <td>2021-01-01</td>\n",
              "      <td>Franchise</td>\n",
              "      <td>New</td>\n",
              "      <td>sales</td>\n",
              "    </tr>\n",
              "    <tr>\n",
              "      <th>...</th>\n",
              "      <td>...</td>\n",
              "      <td>...</td>\n",
              "      <td>...</td>\n",
              "      <td>...</td>\n",
              "      <td>...</td>\n",
              "      <td>...</td>\n",
              "      <td>...</td>\n",
              "      <td>...</td>\n",
              "    </tr>\n",
              "    <tr>\n",
              "      <th>263</th>\n",
              "      <td>2022-07-01</td>\n",
              "      <td>S70112726722</td>\n",
              "      <td>1</td>\n",
              "      <td>S68589660240610</td>\n",
              "      <td>2022-07-01</td>\n",
              "      <td>Office</td>\n",
              "      <td>New</td>\n",
              "      <td>sales</td>\n",
              "    </tr>\n",
              "    <tr>\n",
              "      <th>264</th>\n",
              "      <td>2022-07-01</td>\n",
              "      <td>T70159031098</td>\n",
              "      <td>1</td>\n",
              "      <td>T64651365110840</td>\n",
              "      <td>2022-07-01</td>\n",
              "      <td>Alternative</td>\n",
              "      <td>New</td>\n",
              "      <td>sales</td>\n",
              "    </tr>\n",
              "    <tr>\n",
              "      <th>265</th>\n",
              "      <td>2022-07-01</td>\n",
              "      <td>T70112026620</td>\n",
              "      <td>1</td>\n",
              "      <td>T644930978638</td>\n",
              "      <td>2022-07-01</td>\n",
              "      <td>Alternative</td>\n",
              "      <td>New</td>\n",
              "      <td>sales</td>\n",
              "    </tr>\n",
              "    <tr>\n",
              "      <th>266</th>\n",
              "      <td>2022-07-01</td>\n",
              "      <td>V70158231070</td>\n",
              "      <td>1</td>\n",
              "      <td>V6452254263436</td>\n",
              "      <td>2022-07-01</td>\n",
              "      <td>Alternative</td>\n",
              "      <td>New</td>\n",
              "      <td>sales</td>\n",
              "    </tr>\n",
              "    <tr>\n",
              "      <th>267</th>\n",
              "      <td>2022-07-01</td>\n",
              "      <td>V70114526985</td>\n",
              "      <td>1</td>\n",
              "      <td>V64955678627565</td>\n",
              "      <td>2022-07-01</td>\n",
              "      <td>Office</td>\n",
              "      <td>New</td>\n",
              "      <td>sales</td>\n",
              "    </tr>\n",
              "  </tbody>\n",
              "</table>\n",
              "<p>268 rows × 8 columns</p>\n",
              "</div>\n",
              "      <button class=\"colab-df-convert\" onclick=\"convertToInteractive('df-8a81b5fb-a31a-4e5f-a24d-8ce3ead74118')\"\n",
              "              title=\"Convert this dataframe to an interactive table.\"\n",
              "              style=\"display:none;\">\n",
              "        \n",
              "  <svg xmlns=\"http://www.w3.org/2000/svg\" height=\"24px\"viewBox=\"0 0 24 24\"\n",
              "       width=\"24px\">\n",
              "    <path d=\"M0 0h24v24H0V0z\" fill=\"none\"/>\n",
              "    <path d=\"M18.56 5.44l.94 2.06.94-2.06 2.06-.94-2.06-.94-.94-2.06-.94 2.06-2.06.94zm-11 1L8.5 8.5l.94-2.06 2.06-.94-2.06-.94L8.5 2.5l-.94 2.06-2.06.94zm10 10l.94 2.06.94-2.06 2.06-.94-2.06-.94-.94-2.06-.94 2.06-2.06.94z\"/><path d=\"M17.41 7.96l-1.37-1.37c-.4-.4-.92-.59-1.43-.59-.52 0-1.04.2-1.43.59L10.3 9.45l-7.72 7.72c-.78.78-.78 2.05 0 2.83L4 21.41c.39.39.9.59 1.41.59.51 0 1.02-.2 1.41-.59l7.78-7.78 2.81-2.81c.8-.78.8-2.07 0-2.86zM5.41 20L4 18.59l7.72-7.72 1.47 1.35L5.41 20z\"/>\n",
              "  </svg>\n",
              "      </button>\n",
              "      \n",
              "  <style>\n",
              "    .colab-df-container {\n",
              "      display:flex;\n",
              "      flex-wrap:wrap;\n",
              "      gap: 12px;\n",
              "    }\n",
              "\n",
              "    .colab-df-convert {\n",
              "      background-color: #E8F0FE;\n",
              "      border: none;\n",
              "      border-radius: 50%;\n",
              "      cursor: pointer;\n",
              "      display: none;\n",
              "      fill: #1967D2;\n",
              "      height: 32px;\n",
              "      padding: 0 0 0 0;\n",
              "      width: 32px;\n",
              "    }\n",
              "\n",
              "    .colab-df-convert:hover {\n",
              "      background-color: #E2EBFA;\n",
              "      box-shadow: 0px 1px 2px rgba(60, 64, 67, 0.3), 0px 1px 3px 1px rgba(60, 64, 67, 0.15);\n",
              "      fill: #174EA6;\n",
              "    }\n",
              "\n",
              "    [theme=dark] .colab-df-convert {\n",
              "      background-color: #3B4455;\n",
              "      fill: #D2E3FC;\n",
              "    }\n",
              "\n",
              "    [theme=dark] .colab-df-convert:hover {\n",
              "      background-color: #434B5C;\n",
              "      box-shadow: 0px 1px 3px 1px rgba(0, 0, 0, 0.15);\n",
              "      filter: drop-shadow(0px 1px 2px rgba(0, 0, 0, 0.3));\n",
              "      fill: #FFFFFF;\n",
              "    }\n",
              "  </style>\n",
              "\n",
              "      <script>\n",
              "        const buttonEl =\n",
              "          document.querySelector('#df-8a81b5fb-a31a-4e5f-a24d-8ce3ead74118 button.colab-df-convert');\n",
              "        buttonEl.style.display =\n",
              "          google.colab.kernel.accessAllowed ? 'block' : 'none';\n",
              "\n",
              "        async function convertToInteractive(key) {\n",
              "          const element = document.querySelector('#df-8a81b5fb-a31a-4e5f-a24d-8ce3ead74118');\n",
              "          const dataTable =\n",
              "            await google.colab.kernel.invokeFunction('convertToInteractive',\n",
              "                                                     [key], {});\n",
              "          if (!dataTable) return;\n",
              "\n",
              "          const docLinkHtml = 'Like what you see? Visit the ' +\n",
              "            '<a target=\"_blank\" href=https://colab.research.google.com/notebooks/data_table.ipynb>data table notebook</a>'\n",
              "            + ' to learn more about interactive tables.';\n",
              "          element.innerHTML = '';\n",
              "          dataTable['output_type'] = 'display_data';\n",
              "          await google.colab.output.renderOutput(dataTable, element);\n",
              "          const docLink = document.createElement('div');\n",
              "          docLink.innerHTML = docLinkHtml;\n",
              "          element.appendChild(docLink);\n",
              "        }\n",
              "      </script>\n",
              "    </div>\n",
              "  </div>\n",
              "  "
            ]
          },
          "metadata": {}
        }
      ]
    },
    {
      "cell_type": "code",
      "source": [
        "df_f_3['channel'].value_counts()"
      ],
      "metadata": {
        "colab": {
          "base_uri": "https://localhost:8080/"
        },
        "id": "DAzZF_xvqKOw",
        "outputId": "5a026641-edf5-4ef2-8628-8645ca7f8058"
      },
      "execution_count": 123,
      "outputs": [
        {
          "output_type": "execute_result",
          "data": {
            "text/plain": [
              "Alternative    212\n",
              "Office          34\n",
              "Franchise       22\n",
              "Name: channel, dtype: int64"
            ]
          },
          "metadata": {},
          "execution_count": 123
        }
      ]
    },
    {
      "cell_type": "markdown",
      "source": [
        "Четвертый вопрос, service"
      ],
      "metadata": {
        "id": "1KgZd26jurzb"
      }
    },
    {
      "cell_type": "code",
      "source": [
        "df_ts_1[(df_ts_1.combo_ind ==1) & (df_ts_1.date_key_src >= '2021-08-01')].isnull().sum()"
      ],
      "metadata": {
        "colab": {
          "base_uri": "https://localhost:8080/"
        },
        "id": "9jNF98Xh2iJW",
        "outputId": "fe9863b2-70df-472d-9ca7-95bd2b58115c"
      },
      "execution_count": 192,
      "outputs": [
        {
          "output_type": "execute_result",
          "data": {
            "text/plain": [
              "date_key_src          0\n",
              "client_id_tech        0\n",
              "combo_ind             0\n",
              "client_id_serv    18233\n",
              "dtype: int64"
            ]
          },
          "metadata": {},
          "execution_count": 192
        }
      ]
    },
    {
      "cell_type": "markdown",
      "source": [
        "За год, отключили service чуть больше 18 тысяч людей."
      ],
      "metadata": {
        "id": "HTJksRFdY7yD"
      }
    },
    {
      "cell_type": "code",
      "source": [
        "df_ts_1[(df_ts_1.combo_ind ==1) & (df_ts_1.date_key_src > '2022-04-01')].isnull().sum()"
      ],
      "metadata": {
        "colab": {
          "base_uri": "https://localhost:8080/"
        },
        "id": "ki2FCiZ52ike",
        "outputId": "c99db35d-e635-4aea-b0f3-646db91ed800"
      },
      "execution_count": 191,
      "outputs": [
        {
          "output_type": "execute_result",
          "data": {
            "text/plain": [
              "date_key_src         0\n",
              "client_id_tech       0\n",
              "combo_ind            0\n",
              "client_id_serv    5061\n",
              "dtype: int64"
            ]
          },
          "metadata": {},
          "execution_count": 191
        }
      ]
    },
    {
      "cell_type": "markdown",
      "source": [
        "За последние 4 месяца отключили service чуть больше 5 тысяч людей."
      ],
      "metadata": {
        "id": "GUbnOdT96OPK"
      }
    },
    {
      "cell_type": "markdown",
      "source": [
        "Четвертый вопрос, tech."
      ],
      "metadata": {
        "id": "hFE049IoaRUX"
      }
    },
    {
      "cell_type": "code",
      "source": [
        "df_ts_1[(df_ts_1.combo_ind ==1) & (df_ts_1.date_key_src >= '2021-08-01')].count()"
      ],
      "metadata": {
        "colab": {
          "base_uri": "https://localhost:8080/"
        },
        "id": "7h-ILwLXG0g2",
        "outputId": "66be3a75-fb82-4b2a-d8f1-56d353caa6e7"
      },
      "execution_count": 199,
      "outputs": [
        {
          "output_type": "execute_result",
          "data": {
            "text/plain": [
              "date_key_src      388447\n",
              "client_id_tech    388447\n",
              "combo_ind         388447\n",
              "client_id_serv    370214\n",
              "dtype: int64"
            ]
          },
          "metadata": {},
          "execution_count": 199
        }
      ]
    },
    {
      "cell_type": "code",
      "source": [
        "df_ts_1[(df_ts_1.combo_ind ==1) & (df_ts_1.date_key_src >= '2021-08-01')].nunique()"
      ],
      "metadata": {
        "colab": {
          "base_uri": "https://localhost:8080/"
        },
        "id": "JN6i1QjXLqWq",
        "outputId": "c26ec268-1075-4faf-81cf-d8b665d5a35a"
      },
      "execution_count": 198,
      "outputs": [
        {
          "output_type": "execute_result",
          "data": {
            "text/plain": [
              "date_key_src          12\n",
              "client_id_tech    384667\n",
              "combo_ind              1\n",
              "client_id_serv    370117\n",
              "dtype: int64"
            ]
          },
          "metadata": {},
          "execution_count": 198
        }
      ]
    },
    {
      "cell_type": "markdown",
      "source": [
        "За последний год, tech заказывали чуть более 4 тысяч раз."
      ],
      "metadata": {
        "id": "NIjkK0-9Q_7A"
      }
    },
    {
      "cell_type": "code",
      "source": [
        "df_ts_1[(df_ts_1.combo_ind ==1) & (df_ts_1.date_key_src >= '2022-05-01')].count()"
      ],
      "metadata": {
        "colab": {
          "base_uri": "https://localhost:8080/"
        },
        "id": "cLtY8O7Gbhyn",
        "outputId": "3ca8184c-b381-4de4-ab1e-8911d81e7e6c"
      },
      "execution_count": 203,
      "outputs": [
        {
          "output_type": "execute_result",
          "data": {
            "text/plain": [
              "date_key_src      99483\n",
              "client_id_tech    99483\n",
              "combo_ind         99483\n",
              "client_id_serv    94422\n",
              "dtype: int64"
            ]
          },
          "metadata": {},
          "execution_count": 203
        }
      ]
    },
    {
      "cell_type": "code",
      "source": [
        "df_ts_1[(df_ts_1.combo_ind ==1) & (df_ts_1.date_key_src >= '2022-05-01')].nunique()"
      ],
      "metadata": {
        "colab": {
          "base_uri": "https://localhost:8080/"
        },
        "id": "RZHmnZnWPgzJ",
        "outputId": "6030f70c-5714-4243-edbe-93d2f27b9610"
      },
      "execution_count": 201,
      "outputs": [
        {
          "output_type": "execute_result",
          "data": {
            "text/plain": [
              "date_key_src          3\n",
              "client_id_tech    99052\n",
              "combo_ind             1\n",
              "client_id_serv    94412\n",
              "dtype: int64"
            ]
          },
          "metadata": {},
          "execution_count": 201
        }
      ]
    },
    {
      "cell_type": "markdown",
      "source": [
        "За последние 4 месяца договор продляли примерно 400 человек."
      ],
      "metadata": {
        "id": "5Xr8rB1fbql_"
      }
    }
  ]
}